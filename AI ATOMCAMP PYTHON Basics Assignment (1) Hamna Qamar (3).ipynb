{
 "cells": [
  {
   "cell_type": "markdown",
   "id": "3914db34",
   "metadata": {},
   "source": [
    "PYTHON BASICS ASSIGNMENT BY HAMNA QAMAR"
   ]
  },
  {
   "cell_type": "markdown",
   "id": "43b52a94",
   "metadata": {},
   "source": [
    "Task 1: Variables and Data Types:\n",
    "\n",
    "a) Create three variables: one for storing your age (integer), one for your name (string), and one to\n",
    "check if you are a student (Boolean). Print the variables.\n",
    "b) Perform the following operations and print the results:\n",
    "- Add 25 to your age variable.\n",
    "- Concatenate your name with the string &quot;Smith.&quot;\n",
    "- Negate the Boolean variable (if True, make it False, and vice versa)."
   ]
  },
  {
   "cell_type": "code",
   "execution_count": 1,
   "id": "a3bbc4d3",
   "metadata": {},
   "outputs": [
    {
     "name": "stdout",
     "output_type": "stream",
     "text": [
      "Ans a)\n",
      "Enter your name: Murphy\n",
      "Enter your age: 5\n",
      "if you are a student type 1 otherwise type 0 0\n",
      "Ans to part a) \n",
      "Murphy 5 False\n",
      "\n",
      "Ans to part b) \n",
      "30\n",
      "MurphySmith\n",
      "True\n"
     ]
    }
   ],
   "source": [
    "#a)\n",
    "print(\"Ans a)\")\n",
    "#taking input from user\n",
    "name = input(\"Enter your name: \")\n",
    "age = int(input(\"Enter your age: \"))\n",
    "occupation = bool(int(input(\"if you are a student type 1 otherwise type 0 \")))\n",
    "#printing output\n",
    "print(\"Ans to part a) \")\n",
    "print(name, age, occupation)\n",
    "\n",
    "#b)\n",
    "print(\"\\nAns to part b) \")\n",
    "#adding 25 to age\n",
    "age += 25\n",
    "print(age)\n",
    "#concatinating name with \"Smith\"\n",
    "print(name+\"Smith\")\n",
    "print(not occupation)"
   ]
  },
  {
   "cell_type": "markdown",
   "id": "b48099c2",
   "metadata": {},
   "source": [
    "Task 2: Expressions and Operators\n",
    "\n",
    "a) A rectangle has a width of 5.5 units and a height of 3.25 units. Store width and height in variables.\n",
    "Create a new variable called area and write an expression to calculate the area. Print the area in the\n",
    "output.\n",
    "b) Create a temperature variable in Celsius. Convert it to Fahrenheit using the formula: F = (C * 9/5)\n",
    "+ 32. Store this temperature in a variable called Fahrenheit and print this variable.\n",
    "a) Create a variable called radius and give it a value of 5. Calculate the area of a circle with this radius\n",
    "and store it in a variable called area. Print area at the end of your code. (Use the formula: area = π *radius^2, where π (pi) is approximately 3.14159)."
   ]
  },
  {
   "cell_type": "code",
   "execution_count": 10,
   "id": "907fa53e",
   "metadata": {},
   "outputs": [
    {
     "name": "stdout",
     "output_type": "stream",
     "text": [
      "Ans a)\n",
      "area of rectangle =  17.875\n",
      "\n",
      "Ans b)\n",
      "Enter Temperature in Celsius: 180\n",
      "Temperature in Farenheit:  356.0\n",
      "\n",
      "Ans c)\n",
      "area of circle =  21.99113\n"
     ]
    }
   ],
   "source": [
    "#a)\n",
    "print(\"Ans a)\")\n",
    "#defining variables\n",
    "width = 5.5\n",
    "height = 3.25\n",
    "#defining area\n",
    "area = width*height\n",
    "#printing area\n",
    "print(\"Ans a)\")\n",
    "print(\"area of rectangle = \",area)\n",
    "\n",
    "#b)\n",
    "print(\"\\nAns b)\")\n",
    "#taking temperature input from user\n",
    "Celsius = int(input(\"Enter Temperature in Celsius: \"))\n",
    "#converting celcius to farenheit\n",
    "Farenheit = (Celsius * 9/5)+32\n",
    "print(\"Temperature in Farenheit: \",Farenheit)\n",
    "\n",
    "#c)\n",
    "#defining radius and area\n",
    "radius = 5\n",
    "area = (3.14159 * float(radius^2))\n",
    "print(\"\\nAns c)\")\n",
    "#printing area of circle\n",
    "print(\"area of circle = \",area)\n"
   ]
  },
  {
   "cell_type": "markdown",
   "id": "8a909758",
   "metadata": {},
   "source": [
    "Task 3: Introduction to Data Structures\n",
    "a) Create a list called \"fruits\" containing the following fruits: \"apple,\" \"banana,\" \"orange,\" \"grape,\" and \"kiwi.\" Print the list. b) Create a tuple named \"months\" with the names of the first three months of the year. Print the tuple."
   ]
  },
  {
   "cell_type": "code",
   "execution_count": 11,
   "id": "aca947e0",
   "metadata": {},
   "outputs": [
    {
     "name": "stdout",
     "output_type": "stream",
     "text": [
      "Ans a)\n",
      "['apple', 'banana', 'orange', 'grape', 'kiwi']\n",
      "\n",
      "Ans b)\n",
      "('January', 'Febuary', 'March')\n"
     ]
    }
   ],
   "source": [
    "#a\n",
    "print(\"Ans a)\")\n",
    "#creating the list\n",
    "fruits = [\"apple\", \"banana\",\"orange\",\"grape\",\"kiwi\"]\n",
    "#printing the list\n",
    "print(fruits)\n",
    "\n",
    "#b\n",
    "print(\"\\nAns b)\")\n",
    "#creating the tuple\n",
    "months = (\"January\", \"Febuary\", \"March\")\n",
    "#printing the tuple\n",
    "print(months)"
   ]
  },
  {
   "cell_type": "markdown",
   "id": "99f57564",
   "metadata": {},
   "source": [
    "Task 4: List Manipulation\n",
    "a) Given the list of numbers below, write a Python program to calculate the sum and average of\n",
    "these numbers. Print both results.\n",
    "numbers = [12, 34, 45, 67, 89, 100, 23, 56]\n",
    "b) Remove the first and last elements from the &quot;fruits&quot; list created earlier. Print the updated list."
   ]
  },
  {
   "cell_type": "code",
   "execution_count": 12,
   "id": "0d0ece8e",
   "metadata": {},
   "outputs": [
    {
     "name": "stdout",
     "output_type": "stream",
     "text": [
      "\n",
      "Ans a)\n",
      "sum of numbers =  426\n",
      "average of numbers =  53.25\n",
      "\n",
      "Ans b)\n",
      "list =  ['apple', 'banana', 'orange', 'grape', 'kiwi']\n",
      "updated list:  ['banana', 'orange', 'grape']\n"
     ]
    }
   ],
   "source": [
    "#a\n",
    "print(\"\\nAns a)\")\n",
    "#creating the list\n",
    "numbers = [12, 34, 45, 67, 89, 100, 23, 56]\n",
    "#sum of numbers in list\n",
    "print(\"sum of numbers = \",sum(numbers))\n",
    "#calculating average\n",
    "print(\"average of numbers = \",sum(numbers)/len(numbers))\n",
    "\n",
    "#b\n",
    "print(\"\\nAns b)\")\n",
    "fruits = [\"apple\", \"banana\",\"orange\",\"grape\",\"kiwi\"]\n",
    "print(\"list = \",fruits)\n",
    "#removing members of list\n",
    "fruits.pop(0)\n",
    "fruits.pop(3)\n",
    "#printing updated list\n",
    "print(\"updated list: \",fruits)\n"
   ]
  },
  {
   "cell_type": "markdown",
   "id": "8eb356e4",
   "metadata": {},
   "source": [
    "Task 5: Dictionary Operations\n",
    "a) Create a dictionary named &quot;capitals&quot; with three key-value pairs: &quot;USA&quot; - &quot;Washington D.C.,&quot;\n",
    "&quot;France&quot; - &quot;Paris,&quot; and &quot;Japan&quot; - &quot;Tokyo.&quot; Print the dictionary.\n",
    "b) Add a new country and its capital to the &quot;capitals&quot; dictionary. The country is &quot;Germany,&quot; and the\n",
    "capital is &quot;Berlin.&quot; Print the updated dictionary.\n",
    "c) Check if &quot;France&quot; exists in the &quot;capitals&quot; dictionary. If it does, print &quot;France is in the dictionary,&quot;\n",
    "otherwise, print &quot;France is not in the dictionary.&quot; (at the end of the lab notebook for session 1, I have\n",
    "added an example of how to use “in” in python)."
   ]
  },
  {
   "cell_type": "code",
   "execution_count": 13,
   "id": "8da62d71",
   "metadata": {},
   "outputs": [
    {
     "name": "stdout",
     "output_type": "stream",
     "text": [
      "\n",
      "Ans a)\n",
      "{'USA': 'Washington', 'France': 'Paris', 'Japan': 'Tokyo'}\n",
      "\n",
      "Ans b)\n",
      "updated dictionary =  {'USA': 'Washington', 'France': 'Paris', 'Japan': 'Tokyo', 'Germany': 'Berlin'}\n",
      "\n",
      "Ans c)\n",
      "France is in the dictionary!\n"
     ]
    }
   ],
   "source": [
    "#a)\n",
    "print(\"\\nAns a)\")\n",
    "#making dictionary\n",
    "capitals = {\"USA\":\"Washington\", \"France\":\"Paris\", \"Japan\":\"Tokyo\"}\n",
    "#printing dictionary\n",
    "print(capitals)\n",
    "\n",
    "#b)\n",
    "print(\"\\nAns b)\")\n",
    "#adding in dictionary\n",
    "capitals.update({\"Germany\":\"Berlin\"})\n",
    "print(\"updated dictionary = \",capitals)\n",
    "\n",
    "#c\n",
    "print(\"\\nAns c)\")\n",
    "#checking if France in dictionary\n",
    "if \"France\" in capitals:\n",
    "    print(\"France is in the dictionary!\")\n",
    "else:\n",
    "    print(\"France is not in the dictionary\")"
   ]
  },
  {
   "cell_type": "markdown",
   "id": "48fd006b",
   "metadata": {},
   "source": [
    "Task 6: Comparison Operators, Logical Operators and If/Else:\n",
    "a) Create a variable called number that takes user input (we studied the input() function). Next,\n",
    "write a block of code that checks if the number is even or odd (hint: modulo operator. Refer to lab\n",
    "notebook 1).\n",
    "Your output should print “The number is even”, or the “The number is odd”.\n",
    "b) Create two variables called age and GPA. Give them values of your choice. Next, write a block of\n",
    "code to check if a student with this age and GPA is eligible for admission. The following are the\n",
    "conditions:\n",
    "- The student must be at least 18 years old.\n",
    "- The student&#39;s GPA must be 3.0 or higher on a scale of 4.0.\n",
    "Your output should print “Eligible for admission” or “Not eligible for admission”."
   ]
  },
  {
   "cell_type": "code",
   "execution_count": 14,
   "id": "eddf5e34",
   "metadata": {},
   "outputs": [
    {
     "name": "stdout",
     "output_type": "stream",
     "text": [
      "Ans a)\n",
      "Enter a number to check if Even or Odd: 4\n",
      "The number is even!\n",
      "\n",
      "Ans b)\n",
      "Enter your age!: 16\n",
      "Enter your GPA on scale of 4.0: 3\n",
      "Eligible for admission!\n"
     ]
    }
   ],
   "source": [
    "#a)\n",
    "print(\"Ans a)\")\n",
    "#taking input \n",
    "number = int(input(\"Enter a number to check if Even or Odd: \"))\n",
    "#checking number even or odd\n",
    "if number%2 == 0:\n",
    "    print(\"The number is even!\")\n",
    "else:\n",
    "    print(\"The number is odd!\")\n",
    "    \n",
    "#b)\n",
    "print(\"\\nAns b)\")\n",
    "#taking age input from user\n",
    "age = int(input(\"Enter your age!: \"))\n",
    "GPA = float(input(\"Enter your GPA on scale of 4.0: \"))\n",
    "#checking conditions if eligible\n",
    "if age<=18 and GPA>=3:\n",
    "    print(\"Eligible for admission!\")\n",
    "else:\n",
    "    print(\"Not eligible for admission.\")"
   ]
  },
  {
   "cell_type": "markdown",
   "id": "0bf71801",
   "metadata": {},
   "source": [
    "Task 7: Advanced Data Types\n",
    "a) Create a set named &quot;fruits_set&quot; containing the following fruits: &quot;apple,&quot; &quot;banana,&quot; &quot;orange,&quot;\n",
    "&quot;grape,&quot; and &quot;kiwi.&quot; Print the set.\n",
    "b) Given two sets:\n",
    "set1 = {1, 2, 3, 4, 5}\n",
    "set2 = {3, 4, 5, 6, 7}\n",
    "\n",
    "Write Python code to perform the following operations and print the results:\n",
    "- Union of set1 and set2.\n",
    "- Intersection of set1 and set2.\n",
    "- Difference between set1 and set2.\n",
    "- Check if set1 is a subset of set2."
   ]
  },
  {
   "cell_type": "code",
   "execution_count": 15,
   "id": "cfa47f9f",
   "metadata": {},
   "outputs": [
    {
     "name": "stdout",
     "output_type": "stream",
     "text": [
      "Ans a)\n",
      "{'kiwi', 'apple', 'grape', 'banana', 'orange'}\n",
      "\n",
      "Ans b)\n",
      "1) union of set1 and set2:  {1, 2, 3, 4, 5, 6, 7}\n",
      "\n",
      "2) intersection of set1 and set2:  {3, 4, 5}\n",
      "\n",
      "3) difference between set1 and set2:  {1, 2, 6, 7}\n",
      "\n",
      "4) Is set1 a subset of set2? False\n"
     ]
    }
   ],
   "source": [
    "#a)\n",
    "print(\"Ans a)\")\n",
    "#creating set\n",
    "fruits = {\"apple\",\"banana\",\"orange\",\"grape\",\"kiwi\"}\n",
    "#printing set\n",
    "print(fruits)\n",
    "\n",
    "#b)\n",
    "print(\"\\nAns b)\")\n",
    "#creating sets\n",
    "set1 = {1, 2, 3, 4, 5}\n",
    "set2 = {3, 4, 5, 6, 7}\n",
    "#union of set1 and set2\n",
    "s4 = set1.union(set2)\n",
    "print(\"1) union of set1 and set2: \",s4)\n",
    "\n",
    "#intersection of set1 and set2\n",
    "s5 = set1.intersection(set2)\n",
    "print(\"\\n2) intersection of set1 and set2: \",s5)\n",
    "\n",
    "#difference between both sets\n",
    "s6 = set1.symmetric_difference(set2)\n",
    "print(\"\\n3) difference between set1 and set2: \",s6)\n",
    "\n",
    "#checking if set1 is a subset of set2\n",
    "print(\"\\n4) Is set1 a subset of set2?\", set1.issubset(set2))\n"
   ]
  },
  {
   "cell_type": "markdown",
   "id": "4013d884",
   "metadata": {},
   "source": [
    "Task 8: Strings Manipulation\n",
    "a) Create a string variable containing the following sentence:\n",
    "&quot;Python programming is fun and powerful!&quot;\n",
    "Write Python code to do the following and print the results:\n",
    "- Find the length of the string.\n",
    "- Convert the string to uppercase.\n",
    "- Replace &quot;fun&quot; with &quot;exciting.&quot;\n",
    "- Check if the string contains the word &quot;Python.&quot;\n",
    "- Split the string into a list of words."
   ]
  },
  {
   "cell_type": "code",
   "execution_count": 17,
   "id": "100df31f",
   "metadata": {},
   "outputs": [
    {
     "name": "stdout",
     "output_type": "stream",
     "text": [
      "Python programming is fun and powerful!\n",
      "\n",
      "1) length of sentence is:  39\n",
      "\n",
      "2) uppercase sentence is:  PYTHON PROGRAMMING IS FUN AND POWERFUL!\n",
      "\n",
      "3) new sentence is:  Python programming is exciting and powerful!\n",
      "\n",
      "4) 'Python' is in the sentence\n",
      "\n",
      "5) list of words is:  ['Python', 'programming', 'is', 'fun', 'and', 'powerful!']\n"
     ]
    }
   ],
   "source": [
    "#a)\n",
    "#creating string\n",
    "sentence = \"Python programming is fun and powerful!\"\n",
    "print(sentence)\n",
    "\n",
    "#finding length of string\n",
    "length = len(sentence)\n",
    "print(\"\\n1) length of sentence is: \",length)\n",
    "\n",
    "#converting string to uppercase\n",
    "uppercase_sentence = sentence.upper()\n",
    "print(\"\\n2) uppercase sentence is: \",uppercase_sentence)\n",
    "\n",
    "#Replacing 'fun' with 'exciting'\n",
    "replaced_sentence = sentence.replace(\"fun\",\"exciting\")\n",
    "print(\"\\n3) new sentence is: \",replaced_sentence)\n",
    "\n",
    "#checking if 'Python' in string\n",
    "contains_python = \"Python\" in sentence\n",
    "if contains_python:\n",
    "    print(\"\\n4) 'Python' is in the sentence\")\n",
    "else:\n",
    "    print(\"\\n4) 'Python' is not in the sentence\")\n",
    "    \n",
    "#spliting the string\n",
    "words = sentence.split()\n",
    "print(\"\\n5) list of words is: \",words)"
   ]
  },
  {
   "cell_type": "markdown",
   "id": "9fe77efd",
   "metadata": {},
   "source": [
    "Task 9: Functions\n",
    "a) Write a function called num_vowels that takes in a string as an argument, and returns the number of vowels in that string. Print out the result for the string “Learning Python is fun and engaging.” \n",
    "b) Create a function called hours_to_min that converts hours into minutes. The function should take the number of hours as input and return the equivalent number of minutes. Test the function with 2.5 hours and print the result. \n",
    "c) Write a python function that takes in a number as an argument, and prints out the table of that number up to 12 times that number. You may name this whatever you wish. Sample output: 1 x 8 = 8 2 x 8 = 16 3 x 8 = 24 4 x 8 = 32 5 x 8 = 40 6 x 8 = 48 7 x 8 = 56 8 x 8 = 64 9 x 8 = 72 10 x 8 = 80 11 x 8 = 88 12 x 8 = 96"
   ]
  },
  {
   "cell_type": "code",
   "execution_count": 1,
   "id": "1e71e2e9",
   "metadata": {},
   "outputs": [
    {
     "name": "stdout",
     "output_type": "stream",
     "text": [
      "Ans a)\n",
      "total number of vowels =  10\n",
      "\n",
      "Ans b)\n",
      "Enter number of hours: 2.5\n",
      "2.5 hours into minutes are =  150.0 minutes\n",
      "Enter a number: 7\n",
      "7 x 1 = 7\n",
      "7 x 2 = 14\n",
      "7 x 3 = 21\n",
      "7 x 4 = 28\n",
      "7 x 5 = 35\n",
      "7 x 6 = 42\n",
      "7 x 7 = 49\n",
      "7 x 8 = 56\n",
      "7 x 9 = 63\n",
      "7 x 10 = 70\n",
      "7 x 11 = 77\n",
      "7 x 12 = 84\n"
     ]
    }
   ],
   "source": [
    "#a)\n",
    "def num_vowels(string1):\n",
    "    #converting string(sentence) to lowercase to make it simpler\n",
    "    string1 = string1.lower()\n",
    "    #defining vowels\n",
    "    vowels = \"aeiou\"\n",
    "    #initialising variable\n",
    "    count = 0\n",
    "    #for loop for characters in string\n",
    "    for char in string1:\n",
    "        if char in vowels: #if condition to detect vowels in string\n",
    "            count += 1 #increase count for each vowel match\n",
    "            \n",
    "    return(count)\n",
    "#example\n",
    "print(\"Ans a)\")\n",
    "sentence = \"Learning Python is fun and engaging.\"\n",
    "print(\"total number of vowels = \",num_vowels(sentence))\n",
    "\n",
    "#b)\n",
    "#defining function\n",
    "def hours_to_min(hours):\n",
    "    minutes = float(hours) * 60 #converting hours to minutes\n",
    "    return(minutes) #return minutes\n",
    "\n",
    "#example\n",
    "print(\"\\nAns b)\")\n",
    "#taking input from user\n",
    "hrs = float(input(\"Enter number of hours: \"))\n",
    "print(hrs,\"hours into minutes are = \", hours_to_min(hrs),\"minutes\") #calling function\n",
    "        \n",
    "#c)\n",
    "#defining function\n",
    "def table(n):\n",
    "    product = 0\n",
    "    \n",
    "    #applying for loop and range function to ensure constants to be multiplied by user input\n",
    "    for constants in range(1,13):\n",
    "        #defining product\n",
    "        product = n*constants\n",
    "        print(n,\"x\",constants,\"=\",product)\n",
    "    \n",
    "#example \n",
    "number = int(input(\"Enter a number: \")) #taking user input\n",
    "table(number) #calling function\n",
    "\n",
    "    \n",
    "            \n",
    "    "
   ]
  },
  {
   "cell_type": "code",
   "execution_count": null,
   "id": "84132e2e",
   "metadata": {},
   "outputs": [],
   "source": []
  },
  {
   "cell_type": "code",
   "execution_count": null,
   "id": "84cb7cd8",
   "metadata": {},
   "outputs": [],
   "source": []
  }
 ],
 "metadata": {
  "kernelspec": {
   "display_name": "Python 3 (ipykernel)",
   "language": "python",
   "name": "python3"
  },
  "language_info": {
   "codemirror_mode": {
    "name": "ipython",
    "version": 3
   },
   "file_extension": ".py",
   "mimetype": "text/x-python",
   "name": "python",
   "nbconvert_exporter": "python",
   "pygments_lexer": "ipython3",
   "version": "3.11.5"
  }
 },
 "nbformat": 4,
 "nbformat_minor": 5
}
