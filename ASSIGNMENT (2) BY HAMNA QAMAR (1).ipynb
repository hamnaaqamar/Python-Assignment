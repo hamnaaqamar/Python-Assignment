{
 "cells": [
  {
   "cell_type": "markdown",
   "id": "c689893e",
   "metadata": {},
   "source": [
    "# Assignment 2 by Hamna Qamar"
   ]
  },
  {
   "cell_type": "markdown",
   "id": "5c7cb93f",
   "metadata": {},
   "source": [
    "### NUMPY"
   ]
  },
  {
   "cell_type": "code",
   "execution_count": 150,
   "id": "ea254740",
   "metadata": {},
   "outputs": [],
   "source": [
    "import sys\n",
    "import numpy as np"
   ]
  },
  {
   "cell_type": "markdown",
   "id": "22dca129",
   "metadata": {},
   "source": [
    "1. You have a NumPy array of integers. Write a Python program to find the index of the\n",
    "element with the maximum value and the index of the element with the minimum value\n",
    "in the array."
   ]
  },
  {
   "cell_type": "code",
   "execution_count": 4,
   "id": "826bbfe8",
   "metadata": {},
   "outputs": [
    {
     "name": "stdout",
     "output_type": "stream",
     "text": [
      "index of element with maximum value:  1\n",
      "\n",
      "index of element with minimum value:  4\n"
     ]
    }
   ],
   "source": [
    "a = np.array([3,10,7,6,1,8,9,2])\n",
    "\n",
    "max_index = np.argmax(a)\n",
    "min_index = np.argmin(a)\n",
    "\n",
    "print(\"index of element with maximum value: \", max_index)\n",
    "print(\"\\nindex of element with minimum value: \", min_index)\n"
   ]
  },
  {
   "cell_type": "markdown",
   "id": "8a4ad0dd",
   "metadata": {},
   "source": [
    "2. You are given a 1D NumPy array containing integers. Implement a function that replaces\n",
    "all odd numbers in the array with the value -1."
   ]
  },
  {
   "cell_type": "code",
   "execution_count": 17,
   "id": "3cc694aa",
   "metadata": {},
   "outputs": [
    {
     "name": "stdout",
     "output_type": "stream",
     "text": [
      "[-1 10 -1  6 -1  8 -1  2]\n"
     ]
    }
   ],
   "source": [
    "def replacing_integer (arr):\n",
    "    arr[arr %2 != 0] = -1\n",
    "    return arr\n",
    "a = np.array([3,10,7,6,1,8,9,2])\n",
    "new_array = replacing_integer(a)\n",
    "print(new_array)\n"
   ]
  },
  {
   "cell_type": "markdown",
   "id": "ec370003",
   "metadata": {},
   "source": [
    "3. You are given a 3D NumPy array representing a cube of numbers. Write a Python\n",
    "function to find the maximum value in the cube and return its coordinates (row, column,\n",
    "height) within the array.\n",
    "    "
   ]
  },
  {
   "cell_type": "code",
   "execution_count": 22,
   "id": "d5888598",
   "metadata": {},
   "outputs": [
    {
     "name": "stdout",
     "output_type": "stream",
     "text": [
      "(9261, (2, 2, 3))\n"
     ]
    }
   ],
   "source": [
    "def info_cube(cube):\n",
    "    max_value = cube.max()\n",
    "    coordinates = cube.shape\n",
    "    ans = max_value , coordinates\n",
    "    return ans\n",
    "\n",
    "A = np.array([\n",
    "    [[1, 27, 216], [8, 1000, 125]],\n",
    "              \n",
    "    [[6859, 1728, 64],[9261, 512, 343]]\n",
    "             ] )\n",
    "\n",
    "Ans = info_cube(A)\n",
    "print(Ans)"
   ]
  },
  {
   "cell_type": "markdown",
   "id": "4b828b72",
   "metadata": {},
   "source": [
    "4. What is the purpose of the np.zeros() function in NumPy?\n",
    "Ans: It is a numpy function which returns an array filled with zeros of given shape and type "
   ]
  },
  {
   "cell_type": "code",
   "execution_count": 28,
   "id": "77ab7234",
   "metadata": {},
   "outputs": [
    {
     "data": {
      "text/plain": [
       "array([[[0, 0, 0],\n",
       "        [0, 0, 0]],\n",
       "\n",
       "       [[0, 0, 0],\n",
       "        [0, 0, 0]]])"
      ]
     },
     "execution_count": 28,
     "metadata": {},
     "output_type": "execute_result"
    }
   ],
   "source": [
    "#example\n",
    "n = np.zeros((2,2,3), dtype= int)\n",
    "n"
   ]
  },
  {
   "cell_type": "markdown",
   "id": "11ad1cf9",
   "metadata": {},
   "source": [
    "5. How do you access the element at the 2nd row and 3rd column of a NumPy array named\n",
    "my_array?"
   ]
  },
  {
   "cell_type": "code",
   "execution_count": 33,
   "id": "238c23cf",
   "metadata": {},
   "outputs": [
    {
     "name": "stdout",
     "output_type": "stream",
     "text": [
      "10\n"
     ]
    }
   ],
   "source": [
    "my_array = np.array([\n",
    "  #  0 1 2  \n",
    "    [2,3,7],#0\n",
    "    [4,8,10]#1\n",
    "])\n",
    "print(my_array[1][2])"
   ]
  },
  {
   "cell_type": "markdown",
   "id": "9d34fb54",
   "metadata": {},
   "source": [
    "6. Write code to calculate the sum of all elements in a NumPy array named arr."
   ]
  },
  {
   "cell_type": "code",
   "execution_count": 32,
   "id": "005a9295",
   "metadata": {},
   "outputs": [
    {
     "name": "stdout",
     "output_type": "stream",
     "text": [
      "159\n"
     ]
    }
   ],
   "source": [
    "arr = np.array([\n",
    "  #  0 1 2  \n",
    "    [1,89,7],#0\n",
    "    [45,7,10]#1\n",
    "])\n",
    "\n",
    "sum_arr = arr.sum()\n",
    "print(sum_arr)"
   ]
  },
  {
   "cell_type": "markdown",
   "id": "2fca8c2a",
   "metadata": {},
   "source": [
    "7. You are given a 2D NumPy array representing a matrix and a 1D NumPy array\n",
    "representing a row vector. Implement a Python function that adds the row vector to each\n",
    "row of the matrix using broadcasting."
   ]
  },
  {
   "cell_type": "code",
   "execution_count": 39,
   "id": "4d2cbd1e",
   "metadata": {},
   "outputs": [
    {
     "name": "stdout",
     "output_type": "stream",
     "text": [
      "[[11 22 33]\n",
      " [14 25 36]\n",
      " [17 28 39]]\n"
     ]
    }
   ],
   "source": [
    "matrix = np.array([\n",
    "          [1, 2, 3],\n",
    "          [4, 5, 6],\n",
    "          [7, 8, 9]\n",
    "                  ])\n",
    "row_vector = np.array([10, 20, 30])\n",
    "\n",
    "result_matrix = row_vector + matrix\n",
    "print(result_matrix)\n",
    "\n"
   ]
  },
  {
   "cell_type": "markdown",
   "id": "e61525c1",
   "metadata": {},
   "source": [
    "8. Given two NumPy arrays, a and b, how can you concatenate them vertically?"
   ]
  },
  {
   "cell_type": "code",
   "execution_count": 44,
   "id": "2106f036",
   "metadata": {},
   "outputs": [
    {
     "name": "stdout",
     "output_type": "stream",
     "text": [
      "[[1 2]\n",
      " [3 4]\n",
      " [5 6]]\n"
     ]
    }
   ],
   "source": [
    "a = np.array([[1, 2],\n",
    "              [3, 4]])\n",
    "b = np.array([[5, 6]])\n",
    "\n",
    "result = np.concatenate((a,b), axis = 0)\n",
    "print(result)"
   ]
  },
  {
   "cell_type": "markdown",
   "id": "c8ceb964",
   "metadata": {},
   "source": [
    " 9. How can you iterate through each element of a NumPy array using a loop? Provide an"
   ]
  },
  {
   "cell_type": "code",
   "execution_count": 151,
   "id": "cf770e9f",
   "metadata": {},
   "outputs": [
    {
     "name": "stdout",
     "output_type": "stream",
     "text": [
      "1\n",
      "2\n",
      "3\n",
      "4\n",
      "5\n",
      "6\n",
      "7\n",
      "8\n",
      "9\n"
     ]
    }
   ],
   "source": [
    "arr = np.array([[1, 2, 3],\n",
    "                [4, 5, 6],\n",
    "                [7, 8, 9]])\n",
    "\n",
    "for row in arr:\n",
    "    for element in row:\n",
    "        print(element)\n",
    "        "
   ]
  },
  {
   "cell_type": "markdown",
   "id": "d71760b5",
   "metadata": {},
   "source": [
    "10. Write a NumPy code snippet to find the mean value of each row in a 2D array matrix."
   ]
  },
  {
   "cell_type": "code",
   "execution_count": 50,
   "id": "b39d65df",
   "metadata": {},
   "outputs": [
    {
     "name": "stdout",
     "output_type": "stream",
     "text": [
      "mean value of each row: \n"
     ]
    },
    {
     "data": {
      "text/plain": [
       "array([3.        , 6.33333333, 8.66666667])"
      ]
     },
     "execution_count": 50,
     "metadata": {},
     "output_type": "execute_result"
    }
   ],
   "source": [
    "A = np.array([\n",
    "          [1, 5, 3],\n",
    "          [4, 9, 6],\n",
    "          [7, 10, 9]\n",
    "                  ])\n",
    "print(\"mean value of each row: \")\n",
    "A.mean(axis=1)"
   ]
  },
  {
   "cell_type": "markdown",
   "id": "6f7593c7",
   "metadata": {},
   "source": [
    "11. Given a NumPy array grades containing exam scores, write code to count the number of\n",
    "scores above 90."
   ]
  },
  {
   "cell_type": "code",
   "execution_count": 51,
   "id": "d8a2fb96",
   "metadata": {},
   "outputs": [
    {
     "name": "stdout",
     "output_type": "stream",
     "text": [
      "4\n"
     ]
    }
   ],
   "source": [
    "exam_scores = np.array([66,98,87,76,96,91,95])\n",
    "result = np.sum(exam_scores > 90)\n",
    "print(result)\n"
   ]
  },
  {
   "cell_type": "markdown",
   "id": "da289b41",
   "metadata": {},
   "source": [
    "12. Create a NumPy array of 20 random integers between 1 and 100. Calculate the median\n",
    "value."
   ]
  },
  {
   "cell_type": "code",
   "execution_count": 55,
   "id": "240511e5",
   "metadata": {},
   "outputs": [
    {
     "data": {
      "text/plain": [
       "20.5"
      ]
     },
     "execution_count": 55,
     "metadata": {},
     "output_type": "execute_result"
    }
   ],
   "source": [
    "X = np.array([23,56,78,34,12,3,6,7,8,90,97,13,58,7,53,18,91,10,4,85])\n",
    "np.median(X)"
   ]
  },
  {
   "cell_type": "markdown",
   "id": "91a734db",
   "metadata": {},
   "source": [
    "### PANDAS AND MATPLOTLIB"
   ]
  },
  {
   "cell_type": "code",
   "execution_count": 1,
   "id": "766554f2",
   "metadata": {},
   "outputs": [],
   "source": [
    "import numpy as np\n",
    "import pandas as pd"
   ]
  },
  {
   "cell_type": "markdown",
   "id": "7ee6a638",
   "metadata": {},
   "source": [
    "1. Create a pandas series from each of the items below: a list, numpy and a dictionary."
   ]
  },
  {
   "cell_type": "code",
   "execution_count": 9,
   "id": "ba675154",
   "metadata": {},
   "outputs": [
    {
     "name": "stdout",
     "output_type": "stream",
     "text": [
      "Series from list:\n",
      "0    a\n",
      "1    b\n",
      "2    c\n",
      "3    d\n",
      "4    e\n",
      "5    f\n",
      "6    g\n",
      "dtype: object\n",
      "\n",
      "Series from NumPy array:\n",
      "0    1\n",
      "1    2\n",
      "2    3\n",
      "3    4\n",
      "4    5\n",
      "5    6\n",
      "6    7\n",
      "7    8\n",
      "8    9\n",
      "dtype: int32\n",
      "\n",
      "Series from dictionary:\n",
      "A    0\n",
      "B    1\n",
      "C    2\n",
      "D    3\n",
      "E    5\n",
      "dtype: int64\n"
     ]
    }
   ],
   "source": [
    "\n",
    "a_list = list(\"abcdefg\")\n",
    "numpy_array = np.arange(1, 10)\n",
    "dictionary = {\"A\": 0, \"B\":1, \"C\":2, \"D\":3, \"E\":5}\n",
    "\n",
    "series_from_list = pd.Series(a_list)\n",
    "series_from_array = pd.Series(numpy_array)\n",
    "series_from_dictionary = pd.Series(dictionary)\n",
    "\n",
    "print(\"Series from list:\")\n",
    "print(series_from_list)\n",
    "\n",
    "print(\"\\nSeries from NumPy array:\")\n",
    "print(series_from_numpy)\n",
    "\n",
    "print(\"\\nSeries from dictionary:\")\n",
    "print(series_from_dict)"
   ]
  },
  {
   "cell_type": "markdown",
   "id": "50da83be",
   "metadata": {},
   "source": [
    "2. Write a python program to sort the following data according to ascending order of Age."
   ]
  },
  {
   "cell_type": "code",
   "execution_count": 17,
   "id": "6c63e2b8",
   "metadata": {},
   "outputs": [
    {
     "name": "stdout",
     "output_type": "stream",
     "text": [
      "sorted data by ascending order of Age: \n",
      "    Name  Age Designation\n",
      "0  Peter   37     Manager\n",
      "2  Rahul   38  Accountant\n",
      "1    Tim   42       Clerk\n"
     ]
    }
   ],
   "source": [
    "name = pd.Series(['Peter','Tim','Rahul'])\n",
    "age = pd.Series([37,42,38])\n",
    "designation = pd.Series(['Manager','Clerk','Accountant'])\n",
    "\n",
    "d1 = {'Name':name , 'Age': age, 'Designation':designation}\n",
    "data_frame = pd.DataFrame(d1)\n",
    "result_sorted = data_frame.sort_values(by ='Age')\n",
    "\n",
    "print(\"sorted data by ascending order of Age: \")\n",
    "print(result_sorted)\n"
   ]
  },
  {
   "cell_type": "code",
   "execution_count": 19,
   "id": "d03a412b",
   "metadata": {},
   "outputs": [],
   "source": [
    "import numpy as np\n",
    "import pandas as pd\n",
    "import matplotlib.pyplot as plt"
   ]
  },
  {
   "cell_type": "markdown",
   "id": "89140f7e",
   "metadata": {},
   "source": [
    "1. Write a Python script to load the dataset &#39;cars.csv&#39; into a DataFrame."
   ]
  },
  {
   "cell_type": "code",
   "execution_count": 134,
   "id": "5a724678",
   "metadata": {},
   "outputs": [],
   "source": [
    "df = pd.read_csv('cars.csv')"
   ]
  },
  {
   "cell_type": "markdown",
   "id": "61ae8064",
   "metadata": {},
   "source": [
    "2. Display the first 5 and last 5 rows of the dataset."
   ]
  },
  {
   "cell_type": "code",
   "execution_count": 24,
   "id": "182eefb5",
   "metadata": {},
   "outputs": [
    {
     "data": {
      "text/html": [
       "<div>\n",
       "<style scoped>\n",
       "    .dataframe tbody tr th:only-of-type {\n",
       "        vertical-align: middle;\n",
       "    }\n",
       "\n",
       "    .dataframe tbody tr th {\n",
       "        vertical-align: top;\n",
       "    }\n",
       "\n",
       "    .dataframe thead th {\n",
       "        text-align: right;\n",
       "    }\n",
       "</style>\n",
       "<table border=\"1\" class=\"dataframe\">\n",
       "  <thead>\n",
       "    <tr style=\"text-align: right;\">\n",
       "      <th></th>\n",
       "      <th>type</th>\n",
       "      <th>price</th>\n",
       "      <th>mpg_city</th>\n",
       "      <th>drive_train</th>\n",
       "      <th>passengers</th>\n",
       "      <th>weight</th>\n",
       "    </tr>\n",
       "  </thead>\n",
       "  <tbody>\n",
       "    <tr>\n",
       "      <th>0</th>\n",
       "      <td>small</td>\n",
       "      <td>15.9</td>\n",
       "      <td>25</td>\n",
       "      <td>front</td>\n",
       "      <td>5</td>\n",
       "      <td>2705</td>\n",
       "    </tr>\n",
       "    <tr>\n",
       "      <th>1</th>\n",
       "      <td>midsize</td>\n",
       "      <td>33.9</td>\n",
       "      <td>18</td>\n",
       "      <td>front</td>\n",
       "      <td>5</td>\n",
       "      <td>3560</td>\n",
       "    </tr>\n",
       "    <tr>\n",
       "      <th>2</th>\n",
       "      <td>midsize</td>\n",
       "      <td>37.7</td>\n",
       "      <td>19</td>\n",
       "      <td>front</td>\n",
       "      <td>6</td>\n",
       "      <td>3405</td>\n",
       "    </tr>\n",
       "    <tr>\n",
       "      <th>3</th>\n",
       "      <td>midsize</td>\n",
       "      <td>30.0</td>\n",
       "      <td>22</td>\n",
       "      <td>rear</td>\n",
       "      <td>4</td>\n",
       "      <td>3640</td>\n",
       "    </tr>\n",
       "    <tr>\n",
       "      <th>4</th>\n",
       "      <td>midsize</td>\n",
       "      <td>15.7</td>\n",
       "      <td>22</td>\n",
       "      <td>front</td>\n",
       "      <td>6</td>\n",
       "      <td>2880</td>\n",
       "    </tr>\n",
       "  </tbody>\n",
       "</table>\n",
       "</div>"
      ],
      "text/plain": [
       "      type  price  mpg_city drive_train  passengers  weight\n",
       "0    small   15.9        25       front           5    2705\n",
       "1  midsize   33.9        18       front           5    3560\n",
       "2  midsize   37.7        19       front           6    3405\n",
       "3  midsize   30.0        22        rear           4    3640\n",
       "4  midsize   15.7        22       front           6    2880"
      ]
     },
     "execution_count": 24,
     "metadata": {},
     "output_type": "execute_result"
    }
   ],
   "source": [
    "df.head(5)"
   ]
  },
  {
   "cell_type": "code",
   "execution_count": 25,
   "id": "f6404bc3",
   "metadata": {},
   "outputs": [
    {
     "data": {
      "text/html": [
       "<div>\n",
       "<style scoped>\n",
       "    .dataframe tbody tr th:only-of-type {\n",
       "        vertical-align: middle;\n",
       "    }\n",
       "\n",
       "    .dataframe tbody tr th {\n",
       "        vertical-align: top;\n",
       "    }\n",
       "\n",
       "    .dataframe thead th {\n",
       "        text-align: right;\n",
       "    }\n",
       "</style>\n",
       "<table border=\"1\" class=\"dataframe\">\n",
       "  <thead>\n",
       "    <tr style=\"text-align: right;\">\n",
       "      <th></th>\n",
       "      <th>type</th>\n",
       "      <th>price</th>\n",
       "      <th>mpg_city</th>\n",
       "      <th>drive_train</th>\n",
       "      <th>passengers</th>\n",
       "      <th>weight</th>\n",
       "    </tr>\n",
       "  </thead>\n",
       "  <tbody>\n",
       "    <tr>\n",
       "      <th>49</th>\n",
       "      <td>small</td>\n",
       "      <td>8.6</td>\n",
       "      <td>39</td>\n",
       "      <td>front</td>\n",
       "      <td>4</td>\n",
       "      <td>1965</td>\n",
       "    </tr>\n",
       "    <tr>\n",
       "      <th>50</th>\n",
       "      <td>small</td>\n",
       "      <td>9.8</td>\n",
       "      <td>32</td>\n",
       "      <td>front</td>\n",
       "      <td>5</td>\n",
       "      <td>2055</td>\n",
       "    </tr>\n",
       "    <tr>\n",
       "      <th>51</th>\n",
       "      <td>midsize</td>\n",
       "      <td>18.2</td>\n",
       "      <td>22</td>\n",
       "      <td>front</td>\n",
       "      <td>5</td>\n",
       "      <td>3030</td>\n",
       "    </tr>\n",
       "    <tr>\n",
       "      <th>52</th>\n",
       "      <td>small</td>\n",
       "      <td>9.1</td>\n",
       "      <td>25</td>\n",
       "      <td>front</td>\n",
       "      <td>4</td>\n",
       "      <td>2240</td>\n",
       "    </tr>\n",
       "    <tr>\n",
       "      <th>53</th>\n",
       "      <td>midsize</td>\n",
       "      <td>26.7</td>\n",
       "      <td>20</td>\n",
       "      <td>front</td>\n",
       "      <td>5</td>\n",
       "      <td>3245</td>\n",
       "    </tr>\n",
       "  </tbody>\n",
       "</table>\n",
       "</div>"
      ],
      "text/plain": [
       "       type  price  mpg_city drive_train  passengers  weight\n",
       "49    small    8.6        39       front           4    1965\n",
       "50    small    9.8        32       front           5    2055\n",
       "51  midsize   18.2        22       front           5    3030\n",
       "52    small    9.1        25       front           4    2240\n",
       "53  midsize   26.7        20       front           5    3245"
      ]
     },
     "execution_count": 25,
     "metadata": {},
     "output_type": "execute_result"
    }
   ],
   "source": [
    "df.tail(5)"
   ]
  },
  {
   "cell_type": "markdown",
   "id": "3500d893",
   "metadata": {},
   "source": [
    "3. Use a Pandas method to display the basic information about the dataset including the\n",
    "number of non-null entries in each column."
   ]
  },
  {
   "cell_type": "code",
   "execution_count": 27,
   "id": "2a0be643",
   "metadata": {},
   "outputs": [
    {
     "name": "stdout",
     "output_type": "stream",
     "text": [
      "<class 'pandas.core.frame.DataFrame'>\n",
      "RangeIndex: 54 entries, 0 to 53\n",
      "Data columns (total 6 columns):\n",
      " #   Column       Non-Null Count  Dtype  \n",
      "---  ------       --------------  -----  \n",
      " 0   type         54 non-null     object \n",
      " 1   price        54 non-null     float64\n",
      " 2   mpg_city     54 non-null     int64  \n",
      " 3   drive_train  54 non-null     object \n",
      " 4   passengers   54 non-null     int64  \n",
      " 5   weight       54 non-null     int64  \n",
      "dtypes: float64(1), int64(3), object(2)\n",
      "memory usage: 2.7+ KB\n"
     ]
    }
   ],
   "source": [
    "df.info()"
   ]
  },
  {
   "cell_type": "markdown",
   "id": "bffb8ccf",
   "metadata": {},
   "source": [
    "4. List all the column names in the dataset."
   ]
  },
  {
   "cell_type": "code",
   "execution_count": 30,
   "id": "694c2440",
   "metadata": {},
   "outputs": [
    {
     "data": {
      "text/plain": [
       "Index(['type', 'price', 'mpg_city', 'drive_train', 'passengers', 'weight'], dtype='object')"
      ]
     },
     "execution_count": 30,
     "metadata": {},
     "output_type": "execute_result"
    }
   ],
   "source": [
    "df.columns"
   ]
  },
  {
   "cell_type": "markdown",
   "id": "13478b77",
   "metadata": {},
   "source": [
    "5. Generate descriptive statistics (like count, mean, std, etc.) for the numerical columns in\n",
    "the dataset."
   ]
  },
  {
   "cell_type": "code",
   "execution_count": 31,
   "id": "c4993070",
   "metadata": {},
   "outputs": [
    {
     "data": {
      "text/html": [
       "<div>\n",
       "<style scoped>\n",
       "    .dataframe tbody tr th:only-of-type {\n",
       "        vertical-align: middle;\n",
       "    }\n",
       "\n",
       "    .dataframe tbody tr th {\n",
       "        vertical-align: top;\n",
       "    }\n",
       "\n",
       "    .dataframe thead th {\n",
       "        text-align: right;\n",
       "    }\n",
       "</style>\n",
       "<table border=\"1\" class=\"dataframe\">\n",
       "  <thead>\n",
       "    <tr style=\"text-align: right;\">\n",
       "      <th></th>\n",
       "      <th>price</th>\n",
       "      <th>mpg_city</th>\n",
       "      <th>passengers</th>\n",
       "      <th>weight</th>\n",
       "    </tr>\n",
       "  </thead>\n",
       "  <tbody>\n",
       "    <tr>\n",
       "      <th>count</th>\n",
       "      <td>54.000000</td>\n",
       "      <td>54.000000</td>\n",
       "      <td>54.000000</td>\n",
       "      <td>54.000000</td>\n",
       "    </tr>\n",
       "    <tr>\n",
       "      <th>mean</th>\n",
       "      <td>19.992593</td>\n",
       "      <td>23.314815</td>\n",
       "      <td>5.111111</td>\n",
       "      <td>3037.407407</td>\n",
       "    </tr>\n",
       "    <tr>\n",
       "      <th>std</th>\n",
       "      <td>11.506452</td>\n",
       "      <td>6.624210</td>\n",
       "      <td>0.691366</td>\n",
       "      <td>657.664350</td>\n",
       "    </tr>\n",
       "    <tr>\n",
       "      <th>min</th>\n",
       "      <td>7.400000</td>\n",
       "      <td>16.000000</td>\n",
       "      <td>4.000000</td>\n",
       "      <td>1695.000000</td>\n",
       "    </tr>\n",
       "    <tr>\n",
       "      <th>25%</th>\n",
       "      <td>10.950000</td>\n",
       "      <td>19.000000</td>\n",
       "      <td>5.000000</td>\n",
       "      <td>2452.500000</td>\n",
       "    </tr>\n",
       "    <tr>\n",
       "      <th>50%</th>\n",
       "      <td>17.250000</td>\n",
       "      <td>21.000000</td>\n",
       "      <td>5.000000</td>\n",
       "      <td>3197.500000</td>\n",
       "    </tr>\n",
       "    <tr>\n",
       "      <th>75%</th>\n",
       "      <td>26.250000</td>\n",
       "      <td>28.000000</td>\n",
       "      <td>6.000000</td>\n",
       "      <td>3522.500000</td>\n",
       "    </tr>\n",
       "    <tr>\n",
       "      <th>max</th>\n",
       "      <td>61.900000</td>\n",
       "      <td>46.000000</td>\n",
       "      <td>6.000000</td>\n",
       "      <td>4105.000000</td>\n",
       "    </tr>\n",
       "  </tbody>\n",
       "</table>\n",
       "</div>"
      ],
      "text/plain": [
       "           price   mpg_city  passengers       weight\n",
       "count  54.000000  54.000000   54.000000    54.000000\n",
       "mean   19.992593  23.314815    5.111111  3037.407407\n",
       "std    11.506452   6.624210    0.691366   657.664350\n",
       "min     7.400000  16.000000    4.000000  1695.000000\n",
       "25%    10.950000  19.000000    5.000000  2452.500000\n",
       "50%    17.250000  21.000000    5.000000  3197.500000\n",
       "75%    26.250000  28.000000    6.000000  3522.500000\n",
       "max    61.900000  46.000000    6.000000  4105.000000"
      ]
     },
     "execution_count": 31,
     "metadata": {},
     "output_type": "execute_result"
    }
   ],
   "source": [
    "df.describe()"
   ]
  },
  {
   "cell_type": "markdown",
   "id": "a6fa4a8b",
   "metadata": {},
   "source": [
    "6. Check and display the number of missing values in each column."
   ]
  },
  {
   "cell_type": "code",
   "execution_count": 32,
   "id": "f0fa4a93",
   "metadata": {},
   "outputs": [
    {
     "data": {
      "text/html": [
       "<div>\n",
       "<style scoped>\n",
       "    .dataframe tbody tr th:only-of-type {\n",
       "        vertical-align: middle;\n",
       "    }\n",
       "\n",
       "    .dataframe tbody tr th {\n",
       "        vertical-align: top;\n",
       "    }\n",
       "\n",
       "    .dataframe thead th {\n",
       "        text-align: right;\n",
       "    }\n",
       "</style>\n",
       "<table border=\"1\" class=\"dataframe\">\n",
       "  <thead>\n",
       "    <tr style=\"text-align: right;\">\n",
       "      <th></th>\n",
       "      <th>type</th>\n",
       "      <th>price</th>\n",
       "      <th>mpg_city</th>\n",
       "      <th>drive_train</th>\n",
       "      <th>passengers</th>\n",
       "      <th>weight</th>\n",
       "    </tr>\n",
       "  </thead>\n",
       "  <tbody>\n",
       "    <tr>\n",
       "      <th>0</th>\n",
       "      <td>False</td>\n",
       "      <td>False</td>\n",
       "      <td>False</td>\n",
       "      <td>False</td>\n",
       "      <td>False</td>\n",
       "      <td>False</td>\n",
       "    </tr>\n",
       "    <tr>\n",
       "      <th>1</th>\n",
       "      <td>False</td>\n",
       "      <td>False</td>\n",
       "      <td>False</td>\n",
       "      <td>False</td>\n",
       "      <td>False</td>\n",
       "      <td>False</td>\n",
       "    </tr>\n",
       "    <tr>\n",
       "      <th>2</th>\n",
       "      <td>False</td>\n",
       "      <td>False</td>\n",
       "      <td>False</td>\n",
       "      <td>False</td>\n",
       "      <td>False</td>\n",
       "      <td>False</td>\n",
       "    </tr>\n",
       "    <tr>\n",
       "      <th>3</th>\n",
       "      <td>False</td>\n",
       "      <td>False</td>\n",
       "      <td>False</td>\n",
       "      <td>False</td>\n",
       "      <td>False</td>\n",
       "      <td>False</td>\n",
       "    </tr>\n",
       "    <tr>\n",
       "      <th>4</th>\n",
       "      <td>False</td>\n",
       "      <td>False</td>\n",
       "      <td>False</td>\n",
       "      <td>False</td>\n",
       "      <td>False</td>\n",
       "      <td>False</td>\n",
       "    </tr>\n",
       "    <tr>\n",
       "      <th>5</th>\n",
       "      <td>False</td>\n",
       "      <td>False</td>\n",
       "      <td>False</td>\n",
       "      <td>False</td>\n",
       "      <td>False</td>\n",
       "      <td>False</td>\n",
       "    </tr>\n",
       "    <tr>\n",
       "      <th>6</th>\n",
       "      <td>False</td>\n",
       "      <td>False</td>\n",
       "      <td>False</td>\n",
       "      <td>False</td>\n",
       "      <td>False</td>\n",
       "      <td>False</td>\n",
       "    </tr>\n",
       "    <tr>\n",
       "      <th>7</th>\n",
       "      <td>False</td>\n",
       "      <td>False</td>\n",
       "      <td>False</td>\n",
       "      <td>False</td>\n",
       "      <td>False</td>\n",
       "      <td>False</td>\n",
       "    </tr>\n",
       "    <tr>\n",
       "      <th>8</th>\n",
       "      <td>False</td>\n",
       "      <td>False</td>\n",
       "      <td>False</td>\n",
       "      <td>False</td>\n",
       "      <td>False</td>\n",
       "      <td>False</td>\n",
       "    </tr>\n",
       "    <tr>\n",
       "      <th>9</th>\n",
       "      <td>False</td>\n",
       "      <td>False</td>\n",
       "      <td>False</td>\n",
       "      <td>False</td>\n",
       "      <td>False</td>\n",
       "      <td>False</td>\n",
       "    </tr>\n",
       "    <tr>\n",
       "      <th>10</th>\n",
       "      <td>False</td>\n",
       "      <td>False</td>\n",
       "      <td>False</td>\n",
       "      <td>False</td>\n",
       "      <td>False</td>\n",
       "      <td>False</td>\n",
       "    </tr>\n",
       "    <tr>\n",
       "      <th>11</th>\n",
       "      <td>False</td>\n",
       "      <td>False</td>\n",
       "      <td>False</td>\n",
       "      <td>False</td>\n",
       "      <td>False</td>\n",
       "      <td>False</td>\n",
       "    </tr>\n",
       "    <tr>\n",
       "      <th>12</th>\n",
       "      <td>False</td>\n",
       "      <td>False</td>\n",
       "      <td>False</td>\n",
       "      <td>False</td>\n",
       "      <td>False</td>\n",
       "      <td>False</td>\n",
       "    </tr>\n",
       "    <tr>\n",
       "      <th>13</th>\n",
       "      <td>False</td>\n",
       "      <td>False</td>\n",
       "      <td>False</td>\n",
       "      <td>False</td>\n",
       "      <td>False</td>\n",
       "      <td>False</td>\n",
       "    </tr>\n",
       "    <tr>\n",
       "      <th>14</th>\n",
       "      <td>False</td>\n",
       "      <td>False</td>\n",
       "      <td>False</td>\n",
       "      <td>False</td>\n",
       "      <td>False</td>\n",
       "      <td>False</td>\n",
       "    </tr>\n",
       "    <tr>\n",
       "      <th>15</th>\n",
       "      <td>False</td>\n",
       "      <td>False</td>\n",
       "      <td>False</td>\n",
       "      <td>False</td>\n",
       "      <td>False</td>\n",
       "      <td>False</td>\n",
       "    </tr>\n",
       "    <tr>\n",
       "      <th>16</th>\n",
       "      <td>False</td>\n",
       "      <td>False</td>\n",
       "      <td>False</td>\n",
       "      <td>False</td>\n",
       "      <td>False</td>\n",
       "      <td>False</td>\n",
       "    </tr>\n",
       "    <tr>\n",
       "      <th>17</th>\n",
       "      <td>False</td>\n",
       "      <td>False</td>\n",
       "      <td>False</td>\n",
       "      <td>False</td>\n",
       "      <td>False</td>\n",
       "      <td>False</td>\n",
       "    </tr>\n",
       "    <tr>\n",
       "      <th>18</th>\n",
       "      <td>False</td>\n",
       "      <td>False</td>\n",
       "      <td>False</td>\n",
       "      <td>False</td>\n",
       "      <td>False</td>\n",
       "      <td>False</td>\n",
       "    </tr>\n",
       "    <tr>\n",
       "      <th>19</th>\n",
       "      <td>False</td>\n",
       "      <td>False</td>\n",
       "      <td>False</td>\n",
       "      <td>False</td>\n",
       "      <td>False</td>\n",
       "      <td>False</td>\n",
       "    </tr>\n",
       "    <tr>\n",
       "      <th>20</th>\n",
       "      <td>False</td>\n",
       "      <td>False</td>\n",
       "      <td>False</td>\n",
       "      <td>False</td>\n",
       "      <td>False</td>\n",
       "      <td>False</td>\n",
       "    </tr>\n",
       "    <tr>\n",
       "      <th>21</th>\n",
       "      <td>False</td>\n",
       "      <td>False</td>\n",
       "      <td>False</td>\n",
       "      <td>False</td>\n",
       "      <td>False</td>\n",
       "      <td>False</td>\n",
       "    </tr>\n",
       "    <tr>\n",
       "      <th>22</th>\n",
       "      <td>False</td>\n",
       "      <td>False</td>\n",
       "      <td>False</td>\n",
       "      <td>False</td>\n",
       "      <td>False</td>\n",
       "      <td>False</td>\n",
       "    </tr>\n",
       "    <tr>\n",
       "      <th>23</th>\n",
       "      <td>False</td>\n",
       "      <td>False</td>\n",
       "      <td>False</td>\n",
       "      <td>False</td>\n",
       "      <td>False</td>\n",
       "      <td>False</td>\n",
       "    </tr>\n",
       "    <tr>\n",
       "      <th>24</th>\n",
       "      <td>False</td>\n",
       "      <td>False</td>\n",
       "      <td>False</td>\n",
       "      <td>False</td>\n",
       "      <td>False</td>\n",
       "      <td>False</td>\n",
       "    </tr>\n",
       "    <tr>\n",
       "      <th>25</th>\n",
       "      <td>False</td>\n",
       "      <td>False</td>\n",
       "      <td>False</td>\n",
       "      <td>False</td>\n",
       "      <td>False</td>\n",
       "      <td>False</td>\n",
       "    </tr>\n",
       "    <tr>\n",
       "      <th>26</th>\n",
       "      <td>False</td>\n",
       "      <td>False</td>\n",
       "      <td>False</td>\n",
       "      <td>False</td>\n",
       "      <td>False</td>\n",
       "      <td>False</td>\n",
       "    </tr>\n",
       "    <tr>\n",
       "      <th>27</th>\n",
       "      <td>False</td>\n",
       "      <td>False</td>\n",
       "      <td>False</td>\n",
       "      <td>False</td>\n",
       "      <td>False</td>\n",
       "      <td>False</td>\n",
       "    </tr>\n",
       "    <tr>\n",
       "      <th>28</th>\n",
       "      <td>False</td>\n",
       "      <td>False</td>\n",
       "      <td>False</td>\n",
       "      <td>False</td>\n",
       "      <td>False</td>\n",
       "      <td>False</td>\n",
       "    </tr>\n",
       "    <tr>\n",
       "      <th>29</th>\n",
       "      <td>False</td>\n",
       "      <td>False</td>\n",
       "      <td>False</td>\n",
       "      <td>False</td>\n",
       "      <td>False</td>\n",
       "      <td>False</td>\n",
       "    </tr>\n",
       "    <tr>\n",
       "      <th>30</th>\n",
       "      <td>False</td>\n",
       "      <td>False</td>\n",
       "      <td>False</td>\n",
       "      <td>False</td>\n",
       "      <td>False</td>\n",
       "      <td>False</td>\n",
       "    </tr>\n",
       "    <tr>\n",
       "      <th>31</th>\n",
       "      <td>False</td>\n",
       "      <td>False</td>\n",
       "      <td>False</td>\n",
       "      <td>False</td>\n",
       "      <td>False</td>\n",
       "      <td>False</td>\n",
       "    </tr>\n",
       "    <tr>\n",
       "      <th>32</th>\n",
       "      <td>False</td>\n",
       "      <td>False</td>\n",
       "      <td>False</td>\n",
       "      <td>False</td>\n",
       "      <td>False</td>\n",
       "      <td>False</td>\n",
       "    </tr>\n",
       "    <tr>\n",
       "      <th>33</th>\n",
       "      <td>False</td>\n",
       "      <td>False</td>\n",
       "      <td>False</td>\n",
       "      <td>False</td>\n",
       "      <td>False</td>\n",
       "      <td>False</td>\n",
       "    </tr>\n",
       "    <tr>\n",
       "      <th>34</th>\n",
       "      <td>False</td>\n",
       "      <td>False</td>\n",
       "      <td>False</td>\n",
       "      <td>False</td>\n",
       "      <td>False</td>\n",
       "      <td>False</td>\n",
       "    </tr>\n",
       "    <tr>\n",
       "      <th>35</th>\n",
       "      <td>False</td>\n",
       "      <td>False</td>\n",
       "      <td>False</td>\n",
       "      <td>False</td>\n",
       "      <td>False</td>\n",
       "      <td>False</td>\n",
       "    </tr>\n",
       "    <tr>\n",
       "      <th>36</th>\n",
       "      <td>False</td>\n",
       "      <td>False</td>\n",
       "      <td>False</td>\n",
       "      <td>False</td>\n",
       "      <td>False</td>\n",
       "      <td>False</td>\n",
       "    </tr>\n",
       "    <tr>\n",
       "      <th>37</th>\n",
       "      <td>False</td>\n",
       "      <td>False</td>\n",
       "      <td>False</td>\n",
       "      <td>False</td>\n",
       "      <td>False</td>\n",
       "      <td>False</td>\n",
       "    </tr>\n",
       "    <tr>\n",
       "      <th>38</th>\n",
       "      <td>False</td>\n",
       "      <td>False</td>\n",
       "      <td>False</td>\n",
       "      <td>False</td>\n",
       "      <td>False</td>\n",
       "      <td>False</td>\n",
       "    </tr>\n",
       "    <tr>\n",
       "      <th>39</th>\n",
       "      <td>False</td>\n",
       "      <td>False</td>\n",
       "      <td>False</td>\n",
       "      <td>False</td>\n",
       "      <td>False</td>\n",
       "      <td>False</td>\n",
       "    </tr>\n",
       "    <tr>\n",
       "      <th>40</th>\n",
       "      <td>False</td>\n",
       "      <td>False</td>\n",
       "      <td>False</td>\n",
       "      <td>False</td>\n",
       "      <td>False</td>\n",
       "      <td>False</td>\n",
       "    </tr>\n",
       "    <tr>\n",
       "      <th>41</th>\n",
       "      <td>False</td>\n",
       "      <td>False</td>\n",
       "      <td>False</td>\n",
       "      <td>False</td>\n",
       "      <td>False</td>\n",
       "      <td>False</td>\n",
       "    </tr>\n",
       "    <tr>\n",
       "      <th>42</th>\n",
       "      <td>False</td>\n",
       "      <td>False</td>\n",
       "      <td>False</td>\n",
       "      <td>False</td>\n",
       "      <td>False</td>\n",
       "      <td>False</td>\n",
       "    </tr>\n",
       "    <tr>\n",
       "      <th>43</th>\n",
       "      <td>False</td>\n",
       "      <td>False</td>\n",
       "      <td>False</td>\n",
       "      <td>False</td>\n",
       "      <td>False</td>\n",
       "      <td>False</td>\n",
       "    </tr>\n",
       "    <tr>\n",
       "      <th>44</th>\n",
       "      <td>False</td>\n",
       "      <td>False</td>\n",
       "      <td>False</td>\n",
       "      <td>False</td>\n",
       "      <td>False</td>\n",
       "      <td>False</td>\n",
       "    </tr>\n",
       "    <tr>\n",
       "      <th>45</th>\n",
       "      <td>False</td>\n",
       "      <td>False</td>\n",
       "      <td>False</td>\n",
       "      <td>False</td>\n",
       "      <td>False</td>\n",
       "      <td>False</td>\n",
       "    </tr>\n",
       "    <tr>\n",
       "      <th>46</th>\n",
       "      <td>False</td>\n",
       "      <td>False</td>\n",
       "      <td>False</td>\n",
       "      <td>False</td>\n",
       "      <td>False</td>\n",
       "      <td>False</td>\n",
       "    </tr>\n",
       "    <tr>\n",
       "      <th>47</th>\n",
       "      <td>False</td>\n",
       "      <td>False</td>\n",
       "      <td>False</td>\n",
       "      <td>False</td>\n",
       "      <td>False</td>\n",
       "      <td>False</td>\n",
       "    </tr>\n",
       "    <tr>\n",
       "      <th>48</th>\n",
       "      <td>False</td>\n",
       "      <td>False</td>\n",
       "      <td>False</td>\n",
       "      <td>False</td>\n",
       "      <td>False</td>\n",
       "      <td>False</td>\n",
       "    </tr>\n",
       "    <tr>\n",
       "      <th>49</th>\n",
       "      <td>False</td>\n",
       "      <td>False</td>\n",
       "      <td>False</td>\n",
       "      <td>False</td>\n",
       "      <td>False</td>\n",
       "      <td>False</td>\n",
       "    </tr>\n",
       "    <tr>\n",
       "      <th>50</th>\n",
       "      <td>False</td>\n",
       "      <td>False</td>\n",
       "      <td>False</td>\n",
       "      <td>False</td>\n",
       "      <td>False</td>\n",
       "      <td>False</td>\n",
       "    </tr>\n",
       "    <tr>\n",
       "      <th>51</th>\n",
       "      <td>False</td>\n",
       "      <td>False</td>\n",
       "      <td>False</td>\n",
       "      <td>False</td>\n",
       "      <td>False</td>\n",
       "      <td>False</td>\n",
       "    </tr>\n",
       "    <tr>\n",
       "      <th>52</th>\n",
       "      <td>False</td>\n",
       "      <td>False</td>\n",
       "      <td>False</td>\n",
       "      <td>False</td>\n",
       "      <td>False</td>\n",
       "      <td>False</td>\n",
       "    </tr>\n",
       "    <tr>\n",
       "      <th>53</th>\n",
       "      <td>False</td>\n",
       "      <td>False</td>\n",
       "      <td>False</td>\n",
       "      <td>False</td>\n",
       "      <td>False</td>\n",
       "      <td>False</td>\n",
       "    </tr>\n",
       "  </tbody>\n",
       "</table>\n",
       "</div>"
      ],
      "text/plain": [
       "     type  price  mpg_city  drive_train  passengers  weight\n",
       "0   False  False     False        False       False   False\n",
       "1   False  False     False        False       False   False\n",
       "2   False  False     False        False       False   False\n",
       "3   False  False     False        False       False   False\n",
       "4   False  False     False        False       False   False\n",
       "5   False  False     False        False       False   False\n",
       "6   False  False     False        False       False   False\n",
       "7   False  False     False        False       False   False\n",
       "8   False  False     False        False       False   False\n",
       "9   False  False     False        False       False   False\n",
       "10  False  False     False        False       False   False\n",
       "11  False  False     False        False       False   False\n",
       "12  False  False     False        False       False   False\n",
       "13  False  False     False        False       False   False\n",
       "14  False  False     False        False       False   False\n",
       "15  False  False     False        False       False   False\n",
       "16  False  False     False        False       False   False\n",
       "17  False  False     False        False       False   False\n",
       "18  False  False     False        False       False   False\n",
       "19  False  False     False        False       False   False\n",
       "20  False  False     False        False       False   False\n",
       "21  False  False     False        False       False   False\n",
       "22  False  False     False        False       False   False\n",
       "23  False  False     False        False       False   False\n",
       "24  False  False     False        False       False   False\n",
       "25  False  False     False        False       False   False\n",
       "26  False  False     False        False       False   False\n",
       "27  False  False     False        False       False   False\n",
       "28  False  False     False        False       False   False\n",
       "29  False  False     False        False       False   False\n",
       "30  False  False     False        False       False   False\n",
       "31  False  False     False        False       False   False\n",
       "32  False  False     False        False       False   False\n",
       "33  False  False     False        False       False   False\n",
       "34  False  False     False        False       False   False\n",
       "35  False  False     False        False       False   False\n",
       "36  False  False     False        False       False   False\n",
       "37  False  False     False        False       False   False\n",
       "38  False  False     False        False       False   False\n",
       "39  False  False     False        False       False   False\n",
       "40  False  False     False        False       False   False\n",
       "41  False  False     False        False       False   False\n",
       "42  False  False     False        False       False   False\n",
       "43  False  False     False        False       False   False\n",
       "44  False  False     False        False       False   False\n",
       "45  False  False     False        False       False   False\n",
       "46  False  False     False        False       False   False\n",
       "47  False  False     False        False       False   False\n",
       "48  False  False     False        False       False   False\n",
       "49  False  False     False        False       False   False\n",
       "50  False  False     False        False       False   False\n",
       "51  False  False     False        False       False   False\n",
       "52  False  False     False        False       False   False\n",
       "53  False  False     False        False       False   False"
      ]
     },
     "execution_count": 32,
     "metadata": {},
     "output_type": "execute_result"
    }
   ],
   "source": [
    "pd.isnull(df)"
   ]
  },
  {
   "cell_type": "markdown",
   "id": "61f27b32",
   "metadata": {},
   "source": [
    "7. Find the number of unique car types in the 'type' column."
   ]
  },
  {
   "cell_type": "code",
   "execution_count": 34,
   "id": "d726f28c",
   "metadata": {},
   "outputs": [
    {
     "data": {
      "text/plain": [
       "array(['small', 'midsize', 'large'], dtype=object)"
      ]
     },
     "execution_count": 34,
     "metadata": {},
     "output_type": "execute_result"
    }
   ],
   "source": [
    "df['type'].unique()"
   ]
  },
  {
   "cell_type": "markdown",
   "id": "5f32470a",
   "metadata": {},
   "source": [
    "8. Create a subset of data containing only 'midsize' cars."
   ]
  },
  {
   "cell_type": "code",
   "execution_count": 46,
   "id": "24e3d024",
   "metadata": {},
   "outputs": [
    {
     "name": "stdout",
     "output_type": "stream",
     "text": [
      "       type  price  mpg_city drive_train  passengers  weight\n",
      "1   midsize   33.9        18       front           5    3560\n",
      "2   midsize   37.7        19       front           6    3405\n",
      "3   midsize   30.0        22        rear           4    3640\n",
      "4   midsize   15.7        22       front           6    2880\n",
      "7   midsize   26.3        19       front           5    3495\n",
      "9   midsize   40.1        16       front           5    3935\n",
      "10  midsize   15.9        21       front           6    3195\n",
      "16  midsize   15.6        21       front           6    3080\n",
      "21  midsize   20.2        21       front           5    3325\n",
      "27  midsize   13.9        20       front           5    2885\n",
      "28  midsize   47.9        17        rear           5    4000\n",
      "29  midsize   28.0        18       front           5    3510\n",
      "30  midsize   35.2        18        rear           4    3515\n",
      "31  midsize   34.3        17       front           6    3695\n",
      "35  midsize   61.9        19        rear           5    3525\n",
      "36  midsize   14.9        19        rear           5    3610\n",
      "38  midsize   26.1        18       front           5    3730\n",
      "40  midsize   21.5        21       front           5    3200\n",
      "41  midsize   16.3        23       front           5    2890\n",
      "44  midsize   18.5        19       front           5    3450\n",
      "51  midsize   18.2        22       front           5    3030\n",
      "53  midsize   26.7        20       front           5    3245\n"
     ]
    }
   ],
   "source": [
    "midsize_cars = df[df['type'] == 'midsize' ]\n",
    "print(midsize_cars)"
   ]
  },
  {
   "cell_type": "markdown",
   "id": "5c9eb49a",
   "metadata": {},
   "source": [
    "9. Group the dataset by 'type' and find the average 'price' for each type."
   ]
  },
  {
   "cell_type": "code",
   "execution_count": 50,
   "id": "d07e8765",
   "metadata": {},
   "outputs": [
    {
     "name": "stdout",
     "output_type": "stream",
     "text": [
      "type\n",
      "large      24.300000\n",
      "midsize    27.218182\n",
      "small      10.166667\n",
      "Name: price, dtype: float64\n"
     ]
    }
   ],
   "source": [
    "group_by_type = df.groupby('type')['price'].mean()\n",
    "print(group_by_type)"
   ]
  },
  {
   "cell_type": "markdown",
   "id": "8595ab74",
   "metadata": {},
   "source": [
    "10. Using Matplotlib, create a bar plot showing the average 'mpg_city' for each car type."
   ]
  },
  {
   "cell_type": "code",
   "execution_count": 64,
   "id": "de95efb0",
   "metadata": {},
   "outputs": [
    {
     "data": {
      "image/png": "[encoded data removed]",
      "text/plain": [
       "<Figure size 1200x400 with 1 Axes>"
      ]
     },
     "metadata": {},
     "output_type": "display_data"
    }
   ],
   "source": [
    "avg = df.groupby('type')['mpg_city'].mean() \n",
    "\n",
    "plt.figure(figsize=(12, 4))\n",
    "width = 0.5\n",
    "\n",
    "\n",
    "plt.bar(avg.index, avg, width=width, color='#00b894')\n",
    "\n",
    "\n",
    "plt.title('Average mpg_city for Each Car Type')\n",
    "plt.xlabel('Car Type')\n",
    "plt.ylabel('Average mpg_city')\n",
    "plt.show()"
   ]
  },
  {
   "cell_type": "markdown",
   "id": "09dc46f9",
   "metadata": {},
   "source": [
    "11. Find all cars that are 'small' type and have a price less than $20,000."
   ]
  },
  {
   "cell_type": "code",
   "execution_count": 65,
   "id": "9fef6be2",
   "metadata": {},
   "outputs": [
    {
     "name": "stdout",
     "output_type": "stream",
     "text": [
      "     type  price  mpg_city drive_train  passengers  weight\n",
      "0   small   15.9        25       front           5    2705\n",
      "14  small    9.2        29       front           5    2270\n",
      "15  small   11.3        23       front           5    2670\n",
      "17  small   12.2        29       front           5    2295\n",
      "19  small    7.4        31       front           4    1845\n",
      "20  small   10.1        23       front           5    2530\n",
      "23  small    8.4        46       front           4    1695\n",
      "24  small   12.1        42       front           4    2350\n",
      "25  small    8.0        29       front           5    2345\n",
      "26  small   10.0        22       front           5    2620\n",
      "33  small    8.3        29       front           4    2325\n",
      "34  small   11.6        28       front           5    2440\n",
      "37  small   10.3        29       front           5    2295\n",
      "39  small   11.8        29       front           5    2545\n",
      "43  small    9.0        31       front           4    2350\n",
      "46  small   11.1        28       front           5    2495\n",
      "47  small    8.4        33         4WD           4    2045\n",
      "48  small   10.9        25         4WD           5    2490\n",
      "49  small    8.6        39       front           4    1965\n",
      "50  small    9.8        32       front           5    2055\n",
      "52  small    9.1        25       front           4    2240\n"
     ]
    }
   ],
   "source": [
    "result = df[(df['type'] == 'small') & (df['price'] < 20000)]\n",
    "print(result)"
   ]
  },
  {
   "cell_type": "markdown",
   "id": "648c5fc7",
   "metadata": {},
   "source": [
    "12. Sort the dataset by 'weight' in descending order."
   ]
  },
  {
   "cell_type": "code",
   "execution_count": 67,
   "id": "b6296624",
   "metadata": {},
   "outputs": [
    {
     "data": {
      "text/html": [
       "<div>\n",
       "<style scoped>\n",
       "    .dataframe tbody tr th:only-of-type {\n",
       "        vertical-align: middle;\n",
       "    }\n",
       "\n",
       "    .dataframe tbody tr th {\n",
       "        vertical-align: top;\n",
       "    }\n",
       "\n",
       "    .dataframe thead th {\n",
       "        text-align: right;\n",
       "    }\n",
       "</style>\n",
       "<table border=\"1\" class=\"dataframe\">\n",
       "  <thead>\n",
       "    <tr style=\"text-align: right;\">\n",
       "      <th></th>\n",
       "      <th>type</th>\n",
       "      <th>price</th>\n",
       "      <th>mpg_city</th>\n",
       "      <th>drive_train</th>\n",
       "      <th>passengers</th>\n",
       "      <th>weight</th>\n",
       "    </tr>\n",
       "  </thead>\n",
       "  <tbody>\n",
       "    <tr>\n",
       "      <th>6</th>\n",
       "      <td>large</td>\n",
       "      <td>23.7</td>\n",
       "      <td>16</td>\n",
       "      <td>rear</td>\n",
       "      <td>6</td>\n",
       "      <td>4105</td>\n",
       "    </tr>\n",
       "    <tr>\n",
       "      <th>32</th>\n",
       "      <td>large</td>\n",
       "      <td>36.1</td>\n",
       "      <td>18</td>\n",
       "      <td>rear</td>\n",
       "      <td>6</td>\n",
       "      <td>4055</td>\n",
       "    </tr>\n",
       "    <tr>\n",
       "      <th>28</th>\n",
       "      <td>midsize</td>\n",
       "      <td>47.9</td>\n",
       "      <td>17</td>\n",
       "      <td>rear</td>\n",
       "      <td>5</td>\n",
       "      <td>4000</td>\n",
       "    </tr>\n",
       "    <tr>\n",
       "      <th>22</th>\n",
       "      <td>large</td>\n",
       "      <td>20.9</td>\n",
       "      <td>18</td>\n",
       "      <td>rear</td>\n",
       "      <td>6</td>\n",
       "      <td>3950</td>\n",
       "    </tr>\n",
       "    <tr>\n",
       "      <th>9</th>\n",
       "      <td>midsize</td>\n",
       "      <td>40.1</td>\n",
       "      <td>16</td>\n",
       "      <td>front</td>\n",
       "      <td>5</td>\n",
       "      <td>3935</td>\n",
       "    </tr>\n",
       "    <tr>\n",
       "      <th>11</th>\n",
       "      <td>large</td>\n",
       "      <td>18.8</td>\n",
       "      <td>17</td>\n",
       "      <td>rear</td>\n",
       "      <td>6</td>\n",
       "      <td>3910</td>\n",
       "    </tr>\n",
       "    <tr>\n",
       "      <th>38</th>\n",
       "      <td>midsize</td>\n",
       "      <td>26.1</td>\n",
       "      <td>18</td>\n",
       "      <td>front</td>\n",
       "      <td>5</td>\n",
       "      <td>3730</td>\n",
       "    </tr>\n",
       "    <tr>\n",
       "      <th>31</th>\n",
       "      <td>midsize</td>\n",
       "      <td>34.3</td>\n",
       "      <td>17</td>\n",
       "      <td>front</td>\n",
       "      <td>6</td>\n",
       "      <td>3695</td>\n",
       "    </tr>\n",
       "    <tr>\n",
       "      <th>3</th>\n",
       "      <td>midsize</td>\n",
       "      <td>30.0</td>\n",
       "      <td>22</td>\n",
       "      <td>rear</td>\n",
       "      <td>4</td>\n",
       "      <td>3640</td>\n",
       "    </tr>\n",
       "    <tr>\n",
       "      <th>8</th>\n",
       "      <td>large</td>\n",
       "      <td>34.7</td>\n",
       "      <td>16</td>\n",
       "      <td>front</td>\n",
       "      <td>6</td>\n",
       "      <td>3620</td>\n",
       "    </tr>\n",
       "    <tr>\n",
       "      <th>36</th>\n",
       "      <td>midsize</td>\n",
       "      <td>14.9</td>\n",
       "      <td>19</td>\n",
       "      <td>rear</td>\n",
       "      <td>5</td>\n",
       "      <td>3610</td>\n",
       "    </tr>\n",
       "    <tr>\n",
       "      <th>13</th>\n",
       "      <td>large</td>\n",
       "      <td>29.5</td>\n",
       "      <td>20</td>\n",
       "      <td>front</td>\n",
       "      <td>6</td>\n",
       "      <td>3570</td>\n",
       "    </tr>\n",
       "    <tr>\n",
       "      <th>1</th>\n",
       "      <td>midsize</td>\n",
       "      <td>33.9</td>\n",
       "      <td>18</td>\n",
       "      <td>front</td>\n",
       "      <td>5</td>\n",
       "      <td>3560</td>\n",
       "    </tr>\n",
       "    <tr>\n",
       "      <th>35</th>\n",
       "      <td>midsize</td>\n",
       "      <td>61.9</td>\n",
       "      <td>19</td>\n",
       "      <td>rear</td>\n",
       "      <td>5</td>\n",
       "      <td>3525</td>\n",
       "    </tr>\n",
       "    <tr>\n",
       "      <th>12</th>\n",
       "      <td>large</td>\n",
       "      <td>18.4</td>\n",
       "      <td>20</td>\n",
       "      <td>front</td>\n",
       "      <td>6</td>\n",
       "      <td>3515</td>\n",
       "    </tr>\n",
       "  </tbody>\n",
       "</table>\n",
       "</div>"
      ],
      "text/plain": [
       "       type  price  mpg_city drive_train  passengers  weight\n",
       "6     large   23.7        16        rear           6    4105\n",
       "32    large   36.1        18        rear           6    4055\n",
       "28  midsize   47.9        17        rear           5    4000\n",
       "22    large   20.9        18        rear           6    3950\n",
       "9   midsize   40.1        16       front           5    3935\n",
       "11    large   18.8        17        rear           6    3910\n",
       "38  midsize   26.1        18       front           5    3730\n",
       "31  midsize   34.3        17       front           6    3695\n",
       "3   midsize   30.0        22        rear           4    3640\n",
       "8     large   34.7        16       front           6    3620\n",
       "36  midsize   14.9        19        rear           5    3610\n",
       "13    large   29.5        20       front           6    3570\n",
       "1   midsize   33.9        18       front           5    3560\n",
       "35  midsize   61.9        19        rear           5    3525\n",
       "12    large   18.4        20       front           6    3515"
      ]
     },
     "execution_count": 67,
     "metadata": {},
     "output_type": "execute_result"
    }
   ],
   "source": [
    "df1 = df.sort_values(['weight'], ascending = 0)\n",
    "df1.head(15)"
   ]
  },
  {
   "cell_type": "markdown",
   "id": "c8386d38",
   "metadata": {},
   "source": [
    "13. Add a new column 'weight_kg' to the dataset, converting weight from pounds to\n",
    "kilograms (1 pound = 0.453592 kg)."
   ]
  },
  {
   "cell_type": "code",
   "execution_count": 71,
   "id": "ce26cef6",
   "metadata": {},
   "outputs": [
    {
     "data": {
      "text/html": [
       "<div>\n",
       "<style scoped>\n",
       "    .dataframe tbody tr th:only-of-type {\n",
       "        vertical-align: middle;\n",
       "    }\n",
       "\n",
       "    .dataframe tbody tr th {\n",
       "        vertical-align: top;\n",
       "    }\n",
       "\n",
       "    .dataframe thead th {\n",
       "        text-align: right;\n",
       "    }\n",
       "</style>\n",
       "<table border=\"1\" class=\"dataframe\">\n",
       "  <thead>\n",
       "    <tr style=\"text-align: right;\">\n",
       "      <th></th>\n",
       "      <th>type</th>\n",
       "      <th>price</th>\n",
       "      <th>mpg_city</th>\n",
       "      <th>drive_train</th>\n",
       "      <th>passengers</th>\n",
       "      <th>weight</th>\n",
       "      <th>weight_kg</th>\n",
       "    </tr>\n",
       "  </thead>\n",
       "  <tbody>\n",
       "    <tr>\n",
       "      <th>0</th>\n",
       "      <td>small</td>\n",
       "      <td>15.9</td>\n",
       "      <td>25</td>\n",
       "      <td>front</td>\n",
       "      <td>5</td>\n",
       "      <td>2705</td>\n",
       "      <td>1226.96636</td>\n",
       "    </tr>\n",
       "    <tr>\n",
       "      <th>1</th>\n",
       "      <td>midsize</td>\n",
       "      <td>33.9</td>\n",
       "      <td>18</td>\n",
       "      <td>front</td>\n",
       "      <td>5</td>\n",
       "      <td>3560</td>\n",
       "      <td>1614.78752</td>\n",
       "    </tr>\n",
       "    <tr>\n",
       "      <th>2</th>\n",
       "      <td>midsize</td>\n",
       "      <td>37.7</td>\n",
       "      <td>19</td>\n",
       "      <td>front</td>\n",
       "      <td>6</td>\n",
       "      <td>3405</td>\n",
       "      <td>1544.48076</td>\n",
       "    </tr>\n",
       "    <tr>\n",
       "      <th>3</th>\n",
       "      <td>midsize</td>\n",
       "      <td>30.0</td>\n",
       "      <td>22</td>\n",
       "      <td>rear</td>\n",
       "      <td>4</td>\n",
       "      <td>3640</td>\n",
       "      <td>1651.07488</td>\n",
       "    </tr>\n",
       "    <tr>\n",
       "      <th>4</th>\n",
       "      <td>midsize</td>\n",
       "      <td>15.7</td>\n",
       "      <td>22</td>\n",
       "      <td>front</td>\n",
       "      <td>6</td>\n",
       "      <td>2880</td>\n",
       "      <td>1306.34496</td>\n",
       "    </tr>\n",
       "  </tbody>\n",
       "</table>\n",
       "</div>"
      ],
      "text/plain": [
       "      type  price  mpg_city drive_train  passengers  weight   weight_kg\n",
       "0    small   15.9        25       front           5    2705  1226.96636\n",
       "1  midsize   33.9        18       front           5    3560  1614.78752\n",
       "2  midsize   37.7        19       front           6    3405  1544.48076\n",
       "3  midsize   30.0        22        rear           4    3640  1651.07488\n",
       "4  midsize   15.7        22       front           6    2880  1306.34496"
      ]
     },
     "execution_count": 71,
     "metadata": {},
     "output_type": "execute_result"
    }
   ],
   "source": [
    "df['weight_kg'] = df['weight'] * 0.453592\n",
    "df.head()"
   ]
  },
  {
   "cell_type": "markdown",
   "id": "06a3cad5",
   "metadata": {},
   "source": [
    "14. Calculate the total number of passengers that can be accommodated by all cars in the\n",
    "dataset."
   ]
  },
  {
   "cell_type": "code",
   "execution_count": 75,
   "id": "fe809882",
   "metadata": {},
   "outputs": [
    {
     "data": {
      "text/plain": [
       "276"
      ]
     },
     "execution_count": 75,
     "metadata": {},
     "output_type": "execute_result"
    }
   ],
   "source": [
    "df['passengers'].sum()"
   ]
  },
  {
   "cell_type": "markdown",
   "id": "d963bf63",
   "metadata": {},
   "source": [
    "15. Compute and display the correlation matrix for the numerical columns."
   ]
  },
  {
   "cell_type": "code",
   "execution_count": 78,
   "id": "3d8be7ba",
   "metadata": {},
   "outputs": [
    {
     "name": "stdout",
     "output_type": "stream",
     "text": [
      "               price  mpg_city  passengers    weight  weight_kg\n",
      "price       1.000000 -0.636845    0.308437  0.758112   0.758112\n",
      "mpg_city   -0.636845  1.000000   -0.634000 -0.876918  -0.876918\n",
      "passengers  0.308437 -0.634000    1.000000  0.610437   0.610437\n",
      "weight      0.758112 -0.876918    0.610437  1.000000   1.000000\n",
      "weight_kg   0.758112 -0.876918    0.610437  1.000000   1.000000\n"
     ]
    }
   ],
   "source": [
    "numerical_columns = df.select_dtypes(include = ['float64' , 'int64'])\n",
    "\n",
    "correlation_matrix = numerical_columns.corr()\n",
    "\n",
    "print(correlation_matrix)"
   ]
  },
  {
   "cell_type": "markdown",
   "id": "5361cdb1",
   "metadata": {},
   "source": [
    "16. Create a histogram for the 'price' column using Matplotlib."
   ]
  },
  {
   "cell_type": "code",
   "execution_count": 89,
   "id": "4603423a",
   "metadata": {},
   "outputs": [
    {
     "data": {
      "image/png": "[encoded data removed]",
      "text/plain": [
       "<Figure size 800x600 with 1 Axes>"
      ]
     },
     "metadata": {},
     "output_type": "display_data"
    }
   ],
   "source": [
    "plt.subplots(figsize=(8, 6))\n",
    "\n",
    "plt.hist(df['price'], bins=54, alpha=0.8,\n",
    "          histtype='bar',color='skyblue',\n",
    "          edgecolor='black')\n",
    "plt.title('Histogram of Prices of Cars')\n",
    "plt.xlabel('Price')\n",
    "plt.ylabel('Frequency')\n",
    "plt.grid(axis='y')\n",
    "plt.show()\n"
   ]
  },
  {
   "cell_type": "markdown",
   "id": "dc8411e1",
   "metadata": {},
   "source": [
    "17. Create a figure with 2 subplots: one for the histogram of 'weight' and another for the bar\n",
    "plot of average 'price' by 'type'."
   ]
  },
  {
   "cell_type": "code",
   "execution_count": 109,
   "id": "2310aee4",
   "metadata": {},
   "outputs": [
    {
     "data": {
      "image/png": "[encoded data removed]",
      "text/plain": [
       "<Figure size 1200x400 with 1 Axes>"
      ]
     },
     "metadata": {},
     "output_type": "display_data"
    },
    {
     "data": {
      "image/png": "[encoded data removed]",
      "text/plain": [
       "<Figure size 1200x400 with 1 Axes>"
      ]
     },
     "metadata": {},
     "output_type": "display_data"
    }
   ],
   "source": [
    "#creating histogram of weight\n",
    "plt.figure(figsize=(12, 4))\n",
    "plt.subplot(2,2,1)\n",
    "histogram = plt.hist(df['weight'], bins=54, alpha=0.8,\n",
    "          histtype='bar', color='steelblue',\n",
    "          edgecolor='black')\n",
    "plt.title('Histogram of Prices of Cars')\n",
    "plt.xlabel('Price')\n",
    "plt.ylabel('Frequency')\n",
    "plt.grid(axis='y')\n",
    "plt.show()\n",
    "\n",
    "#creating bar plot \n",
    "avg = df.groupby('type')['price'].mean() \n",
    "plt.figure(figsize=(12, 4))\n",
    "width = 0.5\n",
    "plt.subplot(2,2,1)\n",
    "barchart = plt.bar(avg.index, avg, width=width, color='#00b894')\n",
    "\n",
    "plt.title('Average price of Each Car Type')\n",
    "plt.xlabel('Car Type')\n",
    "plt.ylabel('Average price')\n",
    "plt.show()"
   ]
  },
  {
   "cell_type": "markdown",
   "id": "86cef34b",
   "metadata": {},
   "source": [
    "18. Find all 'midsize' cars with a 'mpg_city' greater than 20 and a price less than $30,000."
   ]
  },
  {
   "cell_type": "code",
   "execution_count": 110,
   "id": "72d0f238",
   "metadata": {},
   "outputs": [
    {
     "name": "stdout",
     "output_type": "stream",
     "text": [
      "       type  price  mpg_city drive_train  passengers  weight   weight_kg\n",
      "3   midsize   30.0        22        rear           4    3640  1651.07488\n",
      "4   midsize   15.7        22       front           6    2880  1306.34496\n",
      "10  midsize   15.9        21       front           6    3195  1449.22644\n",
      "16  midsize   15.6        21       front           6    3080  1397.06336\n",
      "21  midsize   20.2        21       front           5    3325  1508.19340\n",
      "40  midsize   21.5        21       front           5    3200  1451.49440\n",
      "41  midsize   16.3        23       front           5    2890  1310.88088\n",
      "51  midsize   18.2        22       front           5    3030  1374.38376\n"
     ]
    }
   ],
   "source": [
    "result = df[ (df['type'] == 'midsize') & (df['mpg_city'] > 20) & (df['price'] < 30000)]\n",
    "print(result)"
   ]
  },
  {
   "cell_type": "markdown",
   "id": "59296db3",
   "metadata": {},
   "source": [
    "19. Create a scatter plot of 'price' vs 'mpg_city' with different colors for each 'type'."
   ]
  },
  {
   "cell_type": "code",
   "execution_count": 122,
   "id": "12d4250a",
   "metadata": {},
   "outputs": [
    {
     "data": {
      "image/png": "[encoded data removed]",
      "text/plain": [
       "<Figure size 1400x600 with 2 Axes>"
      ]
     },
     "metadata": {},
     "output_type": "display_data"
    }
   ],
   "source": [
    "plt.figure(figsize=(14, 6))\n",
    "area = df['mpg_city']  \n",
    "colors = df['price'] \n",
    "\n",
    "scatter = plt.scatter(df['mpg_city'] , df['price'], s=area, \n",
    "            c=colors, alpha=0.5, cmap='Spectral')\n",
    "plt.colorbar(scatter)\n",
    "\n",
    "plt.xlabel('Mpg_city')\n",
    "plt.ylabel('Price')\n",
    "plt.title('Scatter Plot: Price vs MPG_City')\n",
    "plt.show()\n"
   ]
  },
  {
   "cell_type": "markdown",
   "id": "b7477067",
   "metadata": {},
   "source": [
    "### Bonus Questions\n"
   ]
  },
  {
   "cell_type": "code",
   "execution_count": 129,
   "id": "5ee32f2d",
   "metadata": {},
   "outputs": [
    {
     "data": {
      "text/html": [
       "<div>\n",
       "<style scoped>\n",
       "    .dataframe tbody tr th:only-of-type {\n",
       "        vertical-align: middle;\n",
       "    }\n",
       "\n",
       "    .dataframe tbody tr th {\n",
       "        vertical-align: top;\n",
       "    }\n",
       "\n",
       "    .dataframe thead th {\n",
       "        text-align: right;\n",
       "    }\n",
       "</style>\n",
       "<table border=\"1\" class=\"dataframe\">\n",
       "  <thead>\n",
       "    <tr style=\"text-align: right;\">\n",
       "      <th></th>\n",
       "      <th>type</th>\n",
       "      <th>price</th>\n",
       "      <th>mpg_city</th>\n",
       "      <th>drive_train</th>\n",
       "      <th>passengers</th>\n",
       "      <th>weight</th>\n",
       "    </tr>\n",
       "  </thead>\n",
       "  <tbody>\n",
       "    <tr>\n",
       "      <th>0</th>\n",
       "      <td>small</td>\n",
       "      <td>15.9</td>\n",
       "      <td>25</td>\n",
       "      <td>front</td>\n",
       "      <td>5</td>\n",
       "      <td>2705</td>\n",
       "    </tr>\n",
       "    <tr>\n",
       "      <th>1</th>\n",
       "      <td>midsize</td>\n",
       "      <td>33.9</td>\n",
       "      <td>18</td>\n",
       "      <td>front</td>\n",
       "      <td>5</td>\n",
       "      <td>3560</td>\n",
       "    </tr>\n",
       "    <tr>\n",
       "      <th>2</th>\n",
       "      <td>midsize</td>\n",
       "      <td>37.7</td>\n",
       "      <td>19</td>\n",
       "      <td>front</td>\n",
       "      <td>6</td>\n",
       "      <td>3405</td>\n",
       "    </tr>\n",
       "    <tr>\n",
       "      <th>3</th>\n",
       "      <td>midsize</td>\n",
       "      <td>30.0</td>\n",
       "      <td>22</td>\n",
       "      <td>rear</td>\n",
       "      <td>4</td>\n",
       "      <td>3640</td>\n",
       "    </tr>\n",
       "    <tr>\n",
       "      <th>4</th>\n",
       "      <td>midsize</td>\n",
       "      <td>15.7</td>\n",
       "      <td>22</td>\n",
       "      <td>front</td>\n",
       "      <td>6</td>\n",
       "      <td>2880</td>\n",
       "    </tr>\n",
       "  </tbody>\n",
       "</table>\n",
       "</div>"
      ],
      "text/plain": [
       "      type  price  mpg_city drive_train  passengers  weight\n",
       "0    small   15.9        25       front           5    2705\n",
       "1  midsize   33.9        18       front           5    3560\n",
       "2  midsize   37.7        19       front           6    3405\n",
       "3  midsize   30.0        22        rear           4    3640\n",
       "4  midsize   15.7        22       front           6    2880"
      ]
     },
     "execution_count": 129,
     "metadata": {},
     "output_type": "execute_result"
    }
   ],
   "source": [
    "df.head()"
   ]
  },
  {
   "cell_type": "markdown",
   "id": "b3881333",
   "metadata": {},
   "source": [
    "1. Set 'type' and 'drive_train' as multi-level indices and perform a query based on these\n",
    "indices."
   ]
  },
  {
   "cell_type": "code",
   "execution_count": 135,
   "id": "8f4252cb",
   "metadata": {},
   "outputs": [
    {
     "name": "stdout",
     "output_type": "stream",
     "text": [
      "                     price  mpg_city  passengers  weight\n",
      "type    drive_train                                     \n",
      "midsize rear          30.0        22           4    3640\n",
      "        rear          47.9        17           5    4000\n",
      "        rear          35.2        18           4    3515\n",
      "        rear          61.9        19           5    3525\n",
      "        rear          14.9        19           5    3610\n"
     ]
    },
    {
     "name": "stderr",
     "output_type": "stream",
     "text": [
      "C:\\Users\\Lenovo\\AppData\\Local\\Temp\\ipykernel_16944\\2843785811.py:2: PerformanceWarning: indexing past lexsort depth may impact performance.\n",
      "  result = df.loc[('midsize','rear')]\n"
     ]
    }
   ],
   "source": [
    "df.set_index(['type', 'drive_train'], inplace = True)\n",
    "result = df.loc[('midsize','rear')]\n",
    "print(result)"
   ]
  },
  {
   "cell_type": "markdown",
   "id": "8c7b98a1",
   "metadata": {},
   "source": [
    "2. Demonstrate any two methods for handling missing values. One for ‘price’ column and\n",
    "one for ‘passengers’ column"
   ]
  },
  {
   "cell_type": "code",
   "execution_count": 138,
   "id": "bddb4ffe",
   "metadata": {},
   "outputs": [
    {
     "data": {
      "text/html": [
       "<div>\n",
       "<style scoped>\n",
       "    .dataframe tbody tr th:only-of-type {\n",
       "        vertical-align: middle;\n",
       "    }\n",
       "\n",
       "    .dataframe tbody tr th {\n",
       "        vertical-align: top;\n",
       "    }\n",
       "\n",
       "    .dataframe thead th {\n",
       "        text-align: right;\n",
       "    }\n",
       "</style>\n",
       "<table border=\"1\" class=\"dataframe\">\n",
       "  <thead>\n",
       "    <tr style=\"text-align: right;\">\n",
       "      <th></th>\n",
       "      <th></th>\n",
       "      <th>price</th>\n",
       "      <th>mpg_city</th>\n",
       "      <th>passengers</th>\n",
       "      <th>weight</th>\n",
       "    </tr>\n",
       "    <tr>\n",
       "      <th>type</th>\n",
       "      <th>drive_train</th>\n",
       "      <th></th>\n",
       "      <th></th>\n",
       "      <th></th>\n",
       "      <th></th>\n",
       "    </tr>\n",
       "  </thead>\n",
       "  <tbody>\n",
       "  </tbody>\n",
       "</table>\n",
       "</div>"
      ],
      "text/plain": [
       "Empty DataFrame\n",
       "Columns: [price, mpg_city, passengers, weight]\n",
       "Index: []"
      ]
     },
     "execution_count": 138,
     "metadata": {},
     "output_type": "execute_result"
    }
   ],
   "source": [
    "bool_series = pd.isnull(df[\"price\"])  \n",
    "    \n",
    "df[bool_series]  "
   ]
  },
  {
   "cell_type": "markdown",
   "id": "2b5cf1a3",
   "metadata": {},
   "source": [
    "3. Make a stacked bar chart showing the count of cars by 'type' for each 'drive_train'\n",
    "category."
   ]
  },
  {
   "cell_type": "code",
   "execution_count": 143,
   "id": "6eaf1281",
   "metadata": {},
   "outputs": [
    {
     "data": {
      "image/png": "[encoded data removed]",
      "text/plain": [
       "<Figure size 1200x600 with 1 Axes>"
      ]
     },
     "metadata": {},
     "output_type": "display_data"
    }
   ],
   "source": [
    "grouped_data = df.groupby(['drive_train', 'type']).size().unstack()\n",
    "\n",
    "grouped_data.plot(kind='bar', stacked=True, figsize=(12, 6))\n",
    "\n",
    "plt.xlabel('Drive Train')\n",
    "plt.ylabel('Count of Cars')\n",
    "plt.title('Count of Cars by Type for Each Drive Train')\n",
    "\n",
    "plt.legend(title='Type')\n",
    "plt.show()"
   ]
  },
  {
   "cell_type": "markdown",
   "id": "3fd2434d",
   "metadata": {},
   "source": [
    "4. Create a figure with 3 subplots, each showing a different kind of plot (line, bar,\n",
    "histogram) for any relevant data from the dataset."
   ]
  },
  {
   "cell_type": "code",
   "execution_count": 149,
   "id": "68bb45e4",
   "metadata": {},
   "outputs": [
    {
     "data": {
      "image/png": "[encoded data removed]",
      "text/plain": [
       "<Figure size 1200x400 with 1 Axes>"
      ]
     },
     "metadata": {},
     "output_type": "display_data"
    },
    {
     "data": {
      "image/png": "[encoded data removed]",
      "text/plain": [
       "<Figure size 1200x400 with 1 Axes>"
      ]
     },
     "metadata": {},
     "output_type": "display_data"
    },
    {
     "data": {
      "image/png": "[encoded data removed]",
      "text/plain": [
       "<Figure size 640x480 with 1 Axes>"
      ]
     },
     "metadata": {},
     "output_type": "display_data"
    }
   ],
   "source": [
    "#creating histogram of mpg_city\n",
    "plt.figure(figsize=(12, 4))\n",
    "plt.subplot(2,2,1)\n",
    "histogram = plt.hist(df['mpg_city'], bins=54, alpha=0.8,\n",
    "          histtype='bar', color='skyblue',\n",
    "          edgecolor='black')\n",
    "plt.title('Histogram of mpg_city of Cars')\n",
    "plt.xlabel('Price')\n",
    "plt.ylabel('Frequency')\n",
    "plt.grid(axis='y')\n",
    "plt.show()\n",
    "\n",
    "\n",
    "#creating bar plot \n",
    "avg = df.groupby('type')['passengers'].size()\n",
    "# Set the figure size\n",
    "plt.figure(figsize=(12, 4))\n",
    "# Set the bar width\n",
    "width = 0.5\n",
    "# Plotting bar plot\n",
    "plt.subplot(2,2,2)\n",
    "barchart = plt.bar(avg.index, avg, width=width, color='#00b894')\n",
    "# Labeling the plot\n",
    "plt.title('passengers in Each Car Type')\n",
    "plt.xlabel('Car Type')\n",
    "plt.ylabel('no. of passengers')\n",
    "plt.show()\n",
    "\n",
    "\n",
    "# creating line chart\n",
    "plt.subplot(2,2,3)\n",
    "plt.plot( df['mpg_city'], df['price'])\n",
    "plt.show()"
   ]
  },
  {
   "cell_type": "code",
   "execution_count": null,
   "id": "a887a75a",
   "metadata": {},
   "outputs": [],
   "source": []
  }
 ],
 "metadata": {
  "kernelspec": {
   "display_name": "Python 3 (ipykernel)",
   "language": "python",
   "name": "python3"
  },
  "language_info": {
   "codemirror_mode": {
    "name": "ipython",
    "version": 3
   },
   "file_extension": ".py",
   "mimetype": "text/x-python",
   "name": "python",
   "nbconvert_exporter": "python",
   "pygments_lexer": "ipython3",
   "version": "3.11.5"
  }
 },
 "nbformat": 4,
 "nbformat_minor": 5
}
